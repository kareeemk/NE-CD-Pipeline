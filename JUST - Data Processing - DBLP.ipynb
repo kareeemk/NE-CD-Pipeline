{
 "cells": [
  {
   "cell_type": "markdown",
   "id": "0",
   "metadata": {},
   "source": [
    "# JUST - Data Processing"
   ]
  },
  {
   "cell_type": "markdown",
   "metadata": {},
   "source": [
    "## DBLP Dataset\n",
    "\n",
    "This dataset represents an academic network in computer science. In this data set, authors are labeled with one of four research areas: “database”, “data mining”,“machine learning” and “information retrieval”.\n",
    "\n",
    "**dblp.edgelist**\n",
    "This file contains all edges between different node types.\n",
    "\n",
    "**dblp_node_types.txt**\n",
    "This file contains all edges between different node types.\n",
    "\n",
    "**dblp_labels.txt**\n",
    "This file contains the assignment of one of the four labels (i.e., research areas) to each author. This will probably be useful later on as ground truth for comparison purposes."
   ]
  },
  {
   "cell_type": "markdown",
   "metadata": {},
   "source": [
    "### Input DF into JUST \n",
    "\n",
    "JUST requires the following input formats: \n",
    "\n",
    "1) Edgelist format, the prefix of each node should indicate the node type.\n",
    "    - typeID1 typeID2\n",
    "\n",
    "2) Node_types: Structure of heterogeneous graph. Indicating heterogeneous connections. Eg:\n",
    "    - author : paper\n",
    "    - topic : paper\n",
    "    - venue : paper\n",
    "    - paper : author\n",
    "    - paper : topic\n",
    "    - paper : venue\n",
    "\n",
    "THIS IS ALREADY DONE BY THE AUTHORS FOR THIS DATASET!"
   ]
  }
 ],
 "metadata": {
  "kernelspec": {
   "display_name": "Python 3",
   "language": "python",
   "name": "python3"
  },
  "language_info": {
   "codemirror_mode": {
    "name": "ipython",
    "version": 3
   },
   "file_extension": ".py",
   "mimetype": "text/x-python",
   "name": "python",
   "nbconvert_exporter": "python",
   "pygments_lexer": "ipython3",
   "version": "3.6.15"
  }
 },
 "nbformat": 4,
 "nbformat_minor": 4
}
