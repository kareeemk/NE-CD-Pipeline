{
 "cells": [
  {
   "cell_type": "markdown",
   "id": "0",
   "metadata": {},
   "source": [
    "# DBLP Dataset Analysis w/ StellarGraph\n",
    "\n",
    "## Loading data into StellarGraph from Pandas"
   ]
  },
  {
   "cell_type": "markdown",
   "id": "2",
   "metadata": {},
   "source": [
    "[The StellarGraph library](https://github.com/stellargraph/stellargraph) supports loading graph information from Pandas. [Pandas](https://pandas.pydata.org) is a library for working with data frames.\n",
    "\n",
    "The StellarGraph library supports many deep machine learning (ML) algorithms on [graphs](https://en.wikipedia.org/wiki/Graph_%28discrete_mathematics%29). A graph consists of a set of *nodes* connected by *edges*, potentially with information associated with each node and edge. Any task using the StellarGraph library needs data to be loaded into an instance of the `StellarGraph` class. This class stores the graph structure (the nodes and the edges between them), as well as information about them:\n",
    "\n",
    "- *node types* and *edge types*: a class or category to which the nodes and edges belong, dictating what features are available on a node, and potentially signifying some sort of semantic meaning (this is different to machine learning label for a node)\n",
    "- *node features* and *edge features*: vectors of numbers associated with each node or edge\n",
    "- *edge weights*: a number associated with each edge\n",
    "\n",
    "All of these are optional, because they have sensible defaults if they're not relevant to the task at hand.\n",
    "\n",
    "> StellarGraph supports loading data from many sources with all sorts of data preprocessing, via [Pandas](https://pandas.pydata.org) DataFrames, [NumPy](https://www.numpy.org) arrays, [Neo4j](https://neo4j.com) and [NetworkX](https://networkx.github.io) graphs. See [all loading demos](README.md) for more details.\n",
    "\n",
    "The [documentation](https://stellargraph.readthedocs.io/en/stable/api.html#stellargraph.StellarGraph) for the `StellarGraph` class includes a compressed reminder of everything discussed in this file, as well as explanations of all of the parameters.\n",
    "\n",
    "The `StellarGraph` class is available at the top level of the `stellargraph` library:"
   ]
  },
  {
   "cell_type": "code",
   "execution_count": 1,
   "id": "5",
   "metadata": {},
   "outputs": [
    {
     "name": "stderr",
     "output_type": "stream",
     "text": [
      "/Users/kareemrahman/.pyenv/versions/3.6.15/lib/python3.6/site-packages/requests/__init__.py:104: RequestsDependencyWarning: urllib3 (1.26.18) or chardet (5.0.0)/charset_normalizer (2.0.12) doesn't match a supported version!\n",
      "  RequestsDependencyWarning)\n"
     ]
    }
   ],
   "source": [
    "from stellargraph import StellarGraph"
   ]
  },
  {
   "cell_type": "markdown",
   "metadata": {},
   "source": [
    "## DBLP Dataset\n",
    "\n",
    "This dataset represents an academic network in computer science. In this data set, authors are labeled with one of four research areas: “database”, “data mining”,“machine learning” and “information retrieval”.\n",
    "\n",
    "**dblp.edgelist**\n",
    "This file contains all edges between different node types.\n",
    "\n",
    "**dblp_labels.txt**\n",
    "This file contains the assignment of one of the four labels (i.e., research areas) to each author. This will probably be useful later on as ground truth for comparison purposes."
   ]
  },
  {
   "cell_type": "markdown",
   "id": "6",
   "metadata": {},
   "source": [
    "### Step 1: Loading from .edgelist Files in Pandas Dataframes\n",
    "\n",
    "Pandas DataFrames are tables of data that can be created from [many input sources](https://pandas.pydata.org/pandas-docs/stable/user_guide/io.html), such as [CSV files](https://pandas.pydata.org/pandas-docs/stable/reference/api/pandas.read_csv.html) and [SQL databases](https://pandas.pydata.org/pandas-docs/stable/reference/api/pandas.read_sql.html). StellarGraph builds on this power by allowing construction from these DataFrames."
   ]
  },
  {
   "cell_type": "markdown",
   "metadata": {},
   "source": [
    "The data is formatted one entry per line as follows (tab separated, \"\\t\")"
   ]
  },
  {
   "cell_type": "code",
   "execution_count": 2,
   "id": "7",
   "metadata": {},
   "outputs": [
    {
     "data": {
      "text/html": [
       "<div>\n",
       "<style scoped>\n",
       "    .dataframe tbody tr th:only-of-type {\n",
       "        vertical-align: middle;\n",
       "    }\n",
       "\n",
       "    .dataframe tbody tr th {\n",
       "        vertical-align: top;\n",
       "    }\n",
       "\n",
       "    .dataframe thead th {\n",
       "        text-align: right;\n",
       "    }\n",
       "</style>\n",
       "<table border=\"1\" class=\"dataframe\">\n",
       "  <thead>\n",
       "    <tr style=\"text-align: right;\">\n",
       "      <th></th>\n",
       "      <th>source</th>\n",
       "      <th>target</th>\n",
       "    </tr>\n",
       "  </thead>\n",
       "  <tbody>\n",
       "    <tr>\n",
       "      <th>0</th>\n",
       "      <td>p0</td>\n",
       "      <td>a1</td>\n",
       "    </tr>\n",
       "    <tr>\n",
       "      <th>1</th>\n",
       "      <td>p0</td>\n",
       "      <td>a2</td>\n",
       "    </tr>\n",
       "    <tr>\n",
       "      <th>2</th>\n",
       "      <td>p0</td>\n",
       "      <td>a3</td>\n",
       "    </tr>\n",
       "    <tr>\n",
       "      <th>3</th>\n",
       "      <td>p0</td>\n",
       "      <td>a4</td>\n",
       "    </tr>\n",
       "    <tr>\n",
       "      <th>4</th>\n",
       "      <td>p0</td>\n",
       "      <td>a5</td>\n",
       "    </tr>\n",
       "    <tr>\n",
       "      <th>...</th>\n",
       "      <td>...</td>\n",
       "      <td>...</td>\n",
       "    </tr>\n",
       "    <tr>\n",
       "      <th>51372</th>\n",
       "      <td>p10169</td>\n",
       "      <td>p8094</td>\n",
       "    </tr>\n",
       "    <tr>\n",
       "      <th>51373</th>\n",
       "      <td>p10169</td>\n",
       "      <td>p7974</td>\n",
       "    </tr>\n",
       "    <tr>\n",
       "      <th>51374</th>\n",
       "      <td>p10169</td>\n",
       "      <td>p5852</td>\n",
       "    </tr>\n",
       "    <tr>\n",
       "      <th>51375</th>\n",
       "      <td>p10169</td>\n",
       "      <td>p10113</td>\n",
       "    </tr>\n",
       "    <tr>\n",
       "      <th>51376</th>\n",
       "      <td>p10169</td>\n",
       "      <td>p10031</td>\n",
       "    </tr>\n",
       "  </tbody>\n",
       "</table>\n",
       "<p>51377 rows × 2 columns</p>\n",
       "</div>"
      ],
      "text/plain": [
       "       source  target\n",
       "0          p0      a1\n",
       "1          p0      a2\n",
       "2          p0      a3\n",
       "3          p0      a4\n",
       "4          p0      a5\n",
       "...       ...     ...\n",
       "51372  p10169   p8094\n",
       "51373  p10169   p7974\n",
       "51374  p10169   p5852\n",
       "51375  p10169  p10113\n",
       "51376  p10169  p10031\n",
       "\n",
       "[51377 rows x 2 columns]"
      ]
     },
     "metadata": {},
     "output_type": "display_data"
    }
   ],
   "source": [
    "import pandas as pd\n",
    "\n",
    "#Set correct directory paths to files\n",
    "edgelist_filename = 'DBLP/dblp.edgelist'\n",
    "\n",
    "# Read the file and create Node Dataframes\n",
    "edgelist_df = pd.read_csv(edgelist_filename, sep=' ', names=['source', 'target'])\n",
    "\n",
    "display(edgelist_df)"
   ]
  },
  {
   "cell_type": "code",
   "execution_count": 3,
   "metadata": {},
   "outputs": [],
   "source": [
    "# Extract unique node IDs for each type\n",
    "def extract_nodes(df, prefix):\n",
    "    nodes = pd.concat([\n",
    "        df['source'][df['source'].str.startswith(prefix)],\n",
    "        df['target'][df['target'].str.startswith(prefix)]\n",
    "    ]).unique()\n",
    "    return pd.DataFrame(nodes, columns=['node_id']).set_index('node_id')\n",
    "\n",
    "# Extract node DataFrames for each type\n",
    "authors_df = extract_nodes(edgelist_df, 'a')\n",
    "topics_df = extract_nodes(edgelist_df, 't')\n",
    "venues_df = extract_nodes(edgelist_df, 'v')\n",
    "papers_df = extract_nodes(edgelist_df, 'p')"
   ]
  },
  {
   "cell_type": "code",
   "execution_count": 4,
   "metadata": {},
   "outputs": [],
   "source": [
    "# Function to create edge DataFrame for a specific interaction, ensuring source and target prefixes\n",
    "def create_edge_df(df, source_prefix, target_prefix):\n",
    "    # Filter rows based on prefixes\n",
    "    filtered_edges = df[(df['source'].str.startswith(source_prefix)) & (df['target'].str.startswith(target_prefix))]\n",
    "    return filtered_edges\n",
    "\n",
    "# Create edge DataFrames for each interaction type\n",
    "paper_author_df = create_edge_df(edgelist_df, 'p', 'a')\n",
    "paper_topic_df = create_edge_df(edgelist_df, 'p', 't')\n",
    "paper_venue_df = create_edge_df(edgelist_df, 'p', 'v')\n",
    "paper_paper_df = create_edge_df(edgelist_df, 'p', 'p')"
   ]
  },
  {
   "cell_type": "code",
   "execution_count": 5,
   "metadata": {},
   "outputs": [
    {
     "name": "stdout",
     "output_type": "stream",
     "text": [
      "Empty DataFrame\n",
      "Columns: []\n",
      "Index: [a1, a2, a3, a4, a5, a7, a8, a9, a10, a12, a13, a14, a15, a16, a17, a18, a20, a21, a22, a24, a25, a26, a27, a28, a30, a31, a33, a34, a36, a37, a39, a40, a42, a43, a44, a46, a47, a48, a49, a50, a51, a52, a53, a54, a55, a56, a57, a58, a59, a60, a61, a62, a63, a64, a65, a67, a68, a69, a70, a71, a73, a75, a76, a78, a79, a81, a82, a84, a87, a88, a91, a92, a93, a95, a97, a98, a100, a102, a103, a104, a106, a107, a108, a109, a111, a112, a114, a116, a117, a118, a120, a121, a123, a124, a125, a127, a128, a130, a131, a133, ...]\n",
      "\n",
      "[5915 rows x 0 columns]\n",
      "\n",
      "\n",
      "Empty DataFrame\n",
      "Columns: []\n",
      "Index: [t10191, t10192, t10193, t10194, t10195, t10196, t10197, t10198, t10199, t10200, t10201, t10202, t10203, t10204, t10205, t10206, t10207, t10208, t10209, t10210, t10211, t10212, t10213, t10214, t10215, t10216, t10217, t10218, t10219, t10220, t10221, t10222, t10223, t10224, t10225, t10226, t10227, t10228, t10229, t10230, t10231, t10232, t10233, t10234, t10235, t10236, t10237, t10238, t10239, t10240, t10241, t10242, t10243, t10244, t10245, t10246, t10247, t10248, t10249, t10250, t10251, t10252, t10253, t10254, t10255, t10256, t10257, t10258, t10259, t10260, t10261, t10262, t10263, t10264, t10265, t10266, t10267, t10268, t10269, t10270, t10271, t10272, t10273, t10274, t10275, t10276, t10277, t10278, t10279, t10280, t10281, t10282, t10283, t10284, t10285, t10286, t10287, t10288, t10289, t10290, ...]\n",
      "\n",
      "[4479 rows x 0 columns]\n",
      "\n",
      "\n",
      "Empty DataFrame\n",
      "Columns: []\n",
      "Index: [v10173, v10174, v10175, v10176, v10177, v10178, v10179, v10180, v10181, v10182, v10183, v10184, v10185, v10186, v10187, v10188, v10189, v10190]\n",
      "\n",
      "\n",
      "Empty DataFrame\n",
      "Columns: []\n",
      "Index: [p0, p6, p11, p19, p23, p29, p32, p35, p38, p41, p45, p66, p72, p74, p77, p80, p83, p85, p86, p89, p90, p94, p96, p99, p101, p105, p110, p113, p115, p119, p122, p126, p129, p132, p144, p145, p147, p151, p156, p160, p164, p169, p175, p179, p180, p182, p185, p188, p190, p193, p195, p199, p201, p203, p204, p205, p206, p210, p215, p219, p224, p226, p229, p231, p234, p236, p238, p244, p247, p251, p255, p259, p268, p271, p276, p282, p286, p290, p294, p299, p302, p304, p308, p310, p316, p320, p324, p327, p331, p332, p335, p337, p339, p341, p344, p348, p349, p353, p356, p358, ...]\n",
      "\n",
      "[5237 rows x 0 columns]\n",
      "\n",
      "\n",
      "       source  target\n",
      "0          p0      a1\n",
      "1          p0      a2\n",
      "2          p0      a3\n",
      "3          p0      a4\n",
      "4          p0      a5\n",
      "...       ...     ...\n",
      "51346  p10167  a10168\n",
      "51359  p10169  a10170\n",
      "51360  p10169   a1742\n",
      "51361  p10169  a10171\n",
      "51362  p10169  a10172\n",
      "\n",
      "[13589 rows x 2 columns]\n",
      "\n",
      "\n",
      "       source  target\n",
      "6          p0  t10191\n",
      "7          p0  t10192\n",
      "8          p0  t10193\n",
      "9          p0  t10194\n",
      "10         p0  t10195\n",
      "...       ...     ...\n",
      "51365  p10169  t10930\n",
      "51366  p10169  t10344\n",
      "51367  p10169  t10872\n",
      "51368  p10169  t11746\n",
      "51369  p10169  t14669\n",
      "\n",
      "[26532 rows x 2 columns]\n",
      "\n",
      "\n",
      "       source  target\n",
      "5          p0  v10173\n",
      "16         p6  v10173\n",
      "29        p11  v10173\n",
      "36        p19  v10173\n",
      "46        p23  v10173\n",
      "...       ...     ...\n",
      "51303  p10160  v10190\n",
      "51317  p10162  v10190\n",
      "51335  p10164  v10190\n",
      "51347  p10167  v10190\n",
      "51363  p10169  v10190\n",
      "\n",
      "[4258 rows x 2 columns]\n",
      "\n",
      "\n",
      "       source  target\n",
      "80        p32   p4682\n",
      "167       p72   p4395\n",
      "168       p72   p5828\n",
      "169       p72   p4420\n",
      "170       p72   p4628\n",
      "...       ...     ...\n",
      "51372  p10169   p8094\n",
      "51373  p10169   p7974\n",
      "51374  p10169   p5852\n",
      "51375  p10169  p10113\n",
      "51376  p10169  p10031\n",
      "\n",
      "[6998 rows x 2 columns]\n"
     ]
    }
   ],
   "source": [
    "# Display the first few rows\n",
    "print(authors_df)\n",
    "print(\"\\n\")\n",
    "print(topics_df)\n",
    "print(\"\\n\")\n",
    "print(venues_df)\n",
    "print(\"\\n\")\n",
    "print(papers_df)\n",
    "print(\"\\n\")\n",
    "print(paper_author_df)\n",
    "print(\"\\n\")\n",
    "print(paper_topic_df)\n",
    "print(\"\\n\")\n",
    "print(paper_venue_df)\n",
    "print(\"\\n\")\n",
    "print(paper_paper_df)"
   ]
  },
  {
   "cell_type": "code",
   "execution_count": 6,
   "metadata": {},
   "outputs": [],
   "source": [
    "processed_authors_df = authors_df.copy()\n",
    "processed_topics_df = topics_df.copy()\n",
    "processed_venues_df = venues_df.copy()\n",
    "processed_papers_df = papers_df.copy()\n",
    "processed_paper_author_df = paper_author_df.copy()\n",
    "processed_paper_topic_df = paper_topic_df.copy()\n",
    "processed_paper_venue_df = paper_venue_df.copy()\n",
    "processed_paper_paper_df = paper_paper_df.copy()"
   ]
  },
  {
   "cell_type": "markdown",
   "metadata": {},
   "source": [
    "## Loading Pandas DFs into StellarGraph"
   ]
  },
  {
   "cell_type": "markdown",
   "metadata": {},
   "source": [
    "### Removing Duplicates in Node DFs + Check for Uniqueness\n",
    "\n",
    "Any duplications in node indexes within the node DFs is problematic and must be resolved."
   ]
  },
  {
   "cell_type": "code",
   "execution_count": 7,
   "metadata": {},
   "outputs": [
    {
     "name": "stdout",
     "output_type": "stream",
     "text": [
      "No duplicate IDs across node types.\n",
      "All concatenated IDs are unique: True\n"
     ]
    }
   ],
   "source": [
    "#Convert indices to Series and then concatenate\n",
    "all_ids = pd.concat([processed_authors_df.index.to_series(), \n",
    "                     processed_topics_df.index.to_series(), \n",
    "                     processed_venues_df.index.to_series(),\n",
    "                     processed_papers_df.index.to_series()])\n",
    "\n",
    "#Check for duplicate IDs across all node types\n",
    "duplicated_ids = all_ids[all_ids.duplicated()]\n",
    "if not duplicated_ids.empty:\n",
    "    print(\"There are duplicate IDs across node types.\")\n",
    "    print(\"Duplicate IDs:\", duplicated_ids.unique())\n",
    "else:\n",
    "    print(\"No duplicate IDs across node types.\")\n",
    "\n",
    "#Check if IDs contain unique values after string concatenation \n",
    "print(\"All concatenated IDs are unique:\", all_ids.is_unique)"
   ]
  },
  {
   "cell_type": "markdown",
   "metadata": {},
   "source": [
    "### Removing Duplicates in Edge DFs\n",
    "\n",
    "Any two edges that are identical in the edge DFs must be resolved. We drop the duplicates after this step."
   ]
  },
  {
   "cell_type": "code",
   "execution_count": 8,
   "metadata": {},
   "outputs": [
    {
     "name": "stdout",
     "output_type": "stream",
     "text": [
      "No duplicate edges in 'paper-author' relationship.\n",
      "No duplicate edges in 'paper-topic' relationship.\n",
      "No duplicate edges in 'paper-venue' relationship.\n",
      "No duplicate edges in 'paper-paper' relationship.\n"
     ]
    }
   ],
   "source": [
    "# Function to check for duplicate edges in an edge DataFrame\n",
    "def check_for_duplicates(edge_df, relationship_name):\n",
    "    if edge_df.duplicated().any():\n",
    "        print(f\"There are duplicate edges in '{relationship_name}' relationship.\")\n",
    "        duplicate_edges = edge_df[edge_df.duplicated(keep=False)]\n",
    "        print(f\"Duplicate edges in '{relationship_name}' relationship:\")\n",
    "        print(duplicate_edges)\n",
    "    else:\n",
    "        print(f\"No duplicate edges in '{relationship_name}' relationship.\")\n",
    "\n",
    "# Check for duplicate edges in paper-author relationships\n",
    "check_for_duplicates(processed_paper_author_df, \"paper-author\")\n",
    "\n",
    "# Check for duplicate edges in paper-topic relationships\n",
    "check_for_duplicates(processed_paper_topic_df, \"paper-topic\")\n",
    "\n",
    "# Check for duplicate edges in paper-venue relationships\n",
    "check_for_duplicates(processed_paper_venue_df, \"paper-venue\")\n",
    "\n",
    "# Check for duplicate edges in paper-paper relationships (citations)\n",
    "check_for_duplicates(processed_paper_paper_df, \"paper-paper\")"
   ]
  },
  {
   "cell_type": "markdown",
   "metadata": {},
   "source": [
    "### Checking for Unconnected Nodes\n",
    "\n",
    "In order for the random walks to cover ALL nodes and generate embeddings for each one, only nodes that are connected to others as part of the graph can be considered. We check for unconnected nodes by inspecting the edge dataframes and cross-checking with the node dataframes. \n",
    "\n",
    "If any index is in the node DF BUT NOT in ANY edge DF, THEN we drop it. "
   ]
  },
  {
   "cell_type": "code",
   "execution_count": 9,
   "metadata": {},
   "outputs": [
    {
     "name": "stdout",
     "output_type": "stream",
     "text": [
      "No isolated author nodes.\n",
      "No isolated topic nodes.\n",
      "No isolated venue nodes.\n",
      "No isolated paper nodes.\n"
     ]
    }
   ],
   "source": [
    "# Check for isolated authors\n",
    "isolated_authors = processed_authors_df.index[\n",
    "    ~processed_authors_df.index.isin(processed_paper_author_df['target'])\n",
    "]\n",
    "if not isolated_authors.empty:\n",
    "    print(\"Isolated author nodes:\")\n",
    "    print(isolated_authors)\n",
    "else:\n",
    "    print(\"No isolated author nodes.\")\n",
    "\n",
    "# Check for isolated topics\n",
    "isolated_topics = processed_topics_df.index[\n",
    "    ~processed_topics_df.index.isin(processed_paper_topic_df['target'])\n",
    "]\n",
    "if not isolated_topics.empty:\n",
    "    print(\"Isolated topic nodes:\")\n",
    "    print(isolated_topics)\n",
    "else:\n",
    "    print(\"No isolated topic nodes.\")\n",
    "\n",
    "# Check for isolated venues\n",
    "isolated_venues = processed_venues_df.index[\n",
    "    ~processed_venues_df.index.isin(processed_paper_venue_df['target'])\n",
    "]\n",
    "if not isolated_venues.empty:\n",
    "    print(\"Isolated venue nodes:\")\n",
    "    print(isolated_venues)\n",
    "else:\n",
    "    print(\"No isolated venue nodes.\")\n",
    "\n",
    "# Check for isolated papers\n",
    "isolated_papers = processed_papers_df.index[\n",
    "    ~processed_papers_df.index.isin(processed_paper_author_df['source']) &\n",
    "    ~processed_papers_df.index.isin(processed_paper_topic_df['source']) &\n",
    "    ~processed_papers_df.index.isin(processed_paper_venue_df['source']) &\n",
    "    ~processed_papers_df.index.isin(processed_paper_paper_df['source']) &\n",
    "    ~processed_papers_df.index.isin(processed_paper_paper_df['target'])\n",
    "]\n",
    "if not isolated_papers.empty:\n",
    "    print(\"Isolated paper nodes:\")\n",
    "    print(isolated_papers)\n",
    "else:\n",
    "    print(\"No isolated paper nodes.\")\n"
   ]
  },
  {
   "cell_type": "markdown",
   "metadata": {},
   "source": [
    "### Deleting Unconnected Nodes from Node DFs\n",
    "\n",
    "If a node isn't connected to any other node through edges, it doesn't contribute to the relational information captured by your graph. Removing such nodes can streamline your data and potentially speed up computations, especially for graph algorithms that rely on edge connections. Moreover, since these nodes do not participate in any walks, they wouldn't be included in your Word2Vec training corpus anyway, making their removal from the node lists reasonable.\n",
    "\n",
    "If any index is in the node DF BUT NOT in ANY edge DF, THEN we drop it. "
   ]
  },
  {
   "cell_type": "markdown",
   "metadata": {},
   "source": [
    "### Checking for Invalid Edges\n",
    "\n",
    "Also, any edges that refer to nodes that are NOT in the node dataframe are considered invalid. These must also be dropped so that we can use StellarGraph."
   ]
  },
  {
   "cell_type": "code",
   "execution_count": 10,
   "metadata": {},
   "outputs": [
    {
     "name": "stdout",
     "output_type": "stream",
     "text": [
      "No invalid edges in 'paper-author' relationship.\n",
      "No invalid edges in 'paper-topic' relationship.\n",
      "No invalid edges in 'paper-venue' relationship.\n",
      "No invalid edges in 'paper-paper' relationship.\n"
     ]
    }
   ],
   "source": [
    "# Check for invalid edge references in paper-author relationship\n",
    "invalid_edges_paper_author = processed_paper_author_df[\n",
    "    ~processed_paper_author_df['source'].isin(processed_papers_df.index) |\n",
    "    ~processed_paper_author_df['target'].isin(processed_authors_df.index)\n",
    "]\n",
    "if not invalid_edges_paper_author.empty:\n",
    "    print(\"Invalid edges in 'paper-author' relationship:\")\n",
    "    print(invalid_edges_paper_author)\n",
    "else:\n",
    "    print(\"No invalid edges in 'paper-author' relationship.\")\n",
    "\n",
    "# Check for invalid edge references in paper-topic relationship\n",
    "invalid_edges_paper_topic = processed_paper_topic_df[\n",
    "    ~processed_paper_topic_df['source'].isin(processed_papers_df.index) |\n",
    "    ~processed_paper_topic_df['target'].isin(processed_topics_df.index)\n",
    "]\n",
    "if not invalid_edges_paper_topic.empty:\n",
    "    print(\"Invalid edges in 'paper-topic' relationship:\")\n",
    "    print(invalid_edges_paper_topic)\n",
    "else:\n",
    "    print(\"No invalid edges in 'paper-topic' relationship.\")\n",
    "\n",
    "# Check for invalid edge references in paper-venue relationship\n",
    "invalid_edges_paper_venue = processed_paper_venue_df[\n",
    "    ~processed_paper_venue_df['source'].isin(processed_papers_df.index) |\n",
    "    ~processed_paper_venue_df['target'].isin(processed_venues_df.index)\n",
    "]\n",
    "if not invalid_edges_paper_venue.empty:\n",
    "    print(\"Invalid edges in 'paper-venue' relationship:\")\n",
    "    print(invalid_edges_paper_venue)\n",
    "else:\n",
    "    print(\"No invalid edges in 'paper-venue' relationship.\")\n",
    "\n",
    "# Check for invalid edge references in paper-paper (citation) relationship\n",
    "invalid_edges_paper_paper = processed_paper_paper_df[\n",
    "    ~processed_paper_paper_df['source'].isin(processed_papers_df.index) |\n",
    "    ~processed_paper_paper_df['target'].isin(processed_papers_df.index)\n",
    "]\n",
    "if not invalid_edges_paper_paper.empty:\n",
    "    print(\"Invalid edges in 'paper-paper' relationship:\")\n",
    "    print(invalid_edges_paper_paper)\n",
    "else:\n",
    "    print(\"No invalid edges in 'paper-paper' relationship.\")"
   ]
  },
  {
   "cell_type": "markdown",
   "metadata": {},
   "source": [
    "### Final Check for StellarGraph Input"
   ]
  },
  {
   "cell_type": "code",
   "execution_count": 11,
   "metadata": {},
   "outputs": [
    {
     "name": "stdout",
     "output_type": "stream",
     "text": [
      "Data type of authors_df index: object\n",
      "Data type of topics_df index: object\n",
      "Data type of venues_df index: object\n",
      "Data type of papers_df index: object\n",
      "\n",
      "Authors DF:\n",
      "Empty DataFrame\n",
      "Columns: []\n",
      "Index: [a1, a2, a3, a4, a5]\n",
      "\n",
      "Topics DF:\n",
      "Empty DataFrame\n",
      "Columns: []\n",
      "Index: [t10191, t10192, t10193, t10194, t10195]\n",
      "\n",
      "Venues DF:\n",
      "Empty DataFrame\n",
      "Columns: []\n",
      "Index: [v10173, v10174, v10175, v10176, v10177]\n",
      "\n",
      "Papers DF:\n",
      "Empty DataFrame\n",
      "Columns: []\n",
      "Index: [p0, p6, p11, p19, p23]\n",
      "Data type of source in paper_author_df: object\n",
      "Data type of target in paper_author_df: object\n",
      "Data type of source in paper_topic_df: object\n",
      "Data type of target in paper_topic_df: object\n",
      "Data type of source in paper_venue_df: object\n",
      "Data type of target in paper_venue_df: object\n",
      "Data type of source in paper_paper_df: object\n",
      "Data type of target in paper_paper_df: object\n",
      "\n",
      "Paper-Author DF:\n",
      "  source target\n",
      "0     p0     a1\n",
      "1     p0     a2\n",
      "2     p0     a3\n",
      "3     p0     a4\n",
      "4     p0     a5\n",
      "\n",
      "Paper-Topic DF:\n",
      "   source  target\n",
      "6      p0  t10191\n",
      "7      p0  t10192\n",
      "8      p0  t10193\n",
      "9      p0  t10194\n",
      "10     p0  t10195\n",
      "\n",
      "Paper-Venue DF:\n",
      "   source  target\n",
      "5      p0  v10173\n",
      "16     p6  v10173\n",
      "29    p11  v10173\n",
      "36    p19  v10173\n",
      "46    p23  v10173\n",
      "\n",
      "Paper-Paper DF:\n",
      "    source target\n",
      "80     p32  p4682\n",
      "167    p72  p4395\n",
      "168    p72  p5828\n",
      "169    p72  p4420\n",
      "170    p72  p4628\n"
     ]
    }
   ],
   "source": [
    "#Check if data types are all matching for suitable StellarGraph input\n",
    "# Print data types of indices of node DataFrames\n",
    "print(\"Data type of authors_df index:\", authors_df.index.dtype)\n",
    "print(\"Data type of topics_df index:\", topics_df.index.dtype)\n",
    "print(\"Data type of venues_df index:\", venues_df.index.dtype)\n",
    "print(\"Data type of papers_df index:\", papers_df.index.dtype)\n",
    "\n",
    "# Review each node DataFrame briefly\n",
    "print(\"\\nAuthors DF:\")\n",
    "print(authors_df.head())\n",
    "print(\"\\nTopics DF:\")\n",
    "print(topics_df.head())\n",
    "print(\"\\nVenues DF:\")\n",
    "print(venues_df.head())\n",
    "print(\"\\nPapers DF:\")\n",
    "print(papers_df.head())\n",
    "\n",
    "\n",
    "# Print data types of 'source' and 'target' in edge DataFrames\n",
    "print(\"Data type of source in paper_author_df:\", processed_paper_author_df['source'].dtype)\n",
    "print(\"Data type of target in paper_author_df:\", processed_paper_author_df['target'].dtype)\n",
    "print(\"Data type of source in paper_topic_df:\", processed_paper_topic_df['source'].dtype)\n",
    "print(\"Data type of target in paper_topic_df:\", processed_paper_topic_df['target'].dtype)\n",
    "print(\"Data type of source in paper_venue_df:\", processed_paper_venue_df['source'].dtype)\n",
    "print(\"Data type of target in paper_venue_df:\", processed_paper_venue_df['target'].dtype)\n",
    "print(\"Data type of source in paper_paper_df:\", processed_paper_paper_df['source'].dtype)\n",
    "print(\"Data type of target in paper_paper_df:\", processed_paper_paper_df['target'].dtype)\n",
    "\n",
    "# Review each edge DataFrame briefly\n",
    "print(\"\\nPaper-Author DF:\")\n",
    "print(processed_paper_author_df.head())\n",
    "print(\"\\nPaper-Topic DF:\")\n",
    "print(processed_paper_topic_df.head())\n",
    "print(\"\\nPaper-Venue DF:\")\n",
    "print(processed_paper_venue_df.head())\n",
    "print(\"\\nPaper-Paper DF:\")\n",
    "print(processed_paper_paper_df.head())"
   ]
  },
  {
   "cell_type": "markdown",
   "metadata": {},
   "source": [
    "We can modify the approach to create unique numerical IDs across all edge DataFrames. To do this, you can concatenate all edge DataFrames, create a unique numerical ID, and then split them back. This way, each edge in the entire dataset will have a unique ID.\n",
    "\n",
    "This approach ensures that each edge across all your relationships has a unique, numerical identifier."
   ]
  },
  {
   "cell_type": "code",
   "execution_count": 12,
   "metadata": {},
   "outputs": [],
   "source": [
    "# Concatenate all edge DataFrames with an additional column for edge type\n",
    "all_edges = pd.concat([\n",
    "    processed_paper_author_df.assign(edge_type=\"paper-author\"),\n",
    "    processed_paper_topic_df.assign(edge_type=\"paper-topic\"),\n",
    "    processed_paper_venue_df.assign(edge_type=\"paper-venue\"),\n",
    "    processed_paper_paper_df.assign(edge_type=\"paper-paper\")\n",
    "]).reset_index(drop=True)\n",
    "\n",
    "# Add unique numerical edge IDs\n",
    "all_edges['edge_id'] = range(all_edges.shape[0])\n",
    "\n",
    "# Split the DataFrames back\n",
    "processed_paper_author_df = all_edges[all_edges['edge_type'] == \"paper-author\"].drop(['edge_type', 'edge_id'], axis=1)\n",
    "processed_paper_topic_df = all_edges[all_edges['edge_type'] == \"paper-topic\"].drop(['edge_type', 'edge_id'], axis=1)\n",
    "processed_paper_venue_df = all_edges[all_edges['edge_type'] == \"paper-venue\"].drop(['edge_type', 'edge_id'], axis=1)\n",
    "processed_paper_paper_df = all_edges[all_edges['edge_type'] == \"paper-paper\"].drop(['edge_type', 'edge_id'], axis=1)"
   ]
  },
  {
   "cell_type": "markdown",
   "metadata": {},
   "source": [
    "### Passing DFs into StellarGraph Function"
   ]
  },
  {
   "cell_type": "code",
   "execution_count": 13,
   "metadata": {},
   "outputs": [
    {
     "name": "stdout",
     "output_type": "stream",
     "text": [
      "Number of nodes 15649 and number of edges 51377 in graph.\n",
      "\n",
      "\n",
      "Below is an overview of the StellarGraph structure:\n",
      "StellarGraph: Undirected multigraph\n",
      " Nodes: 15649, Edges: 51377\n",
      "\n",
      " Node types:\n",
      "  author: [5915]\n",
      "    Features: none\n",
      "    Edge types: author-('paper', 'author')->paper\n",
      "  paper: [5237]\n",
      "    Features: none\n",
      "    Edge types: paper-('paper', 'author')->author, paper-('paper', 'paper')->paper, paper-('paper', 'topic')->topic, paper-('paper', 'venue')->venue\n",
      "  topic: [4479]\n",
      "    Features: none\n",
      "    Edge types: topic-('paper', 'topic')->paper\n",
      "  venue: [18]\n",
      "    Features: none\n",
      "    Edge types: venue-('paper', 'venue')->paper\n",
      "\n",
      " Edge types:\n",
      "    paper-('paper', 'topic')->topic: [26532]\n",
      "        Weights: all 1 (default)\n",
      "        Features: none\n",
      "    author-('paper', 'author')->paper: [13589]\n",
      "        Weights: all 1 (default)\n",
      "        Features: none\n",
      "    paper-('paper', 'paper')->paper: [6998]\n",
      "        Weights: all 1 (default)\n",
      "        Features: none\n",
      "    paper-('paper', 'venue')->venue: [4258]\n",
      "        Weights: all 1 (default)\n",
      "        Features: none\n"
     ]
    }
   ],
   "source": [
    "# Create a dictionary for node types and corresponding DataFrames\n",
    "nodes = {\n",
    "    'author': authors_df,\n",
    "    'topic': topics_df,\n",
    "    'venue': venues_df,\n",
    "    'paper': papers_df\n",
    "}\n",
    "\n",
    "# Create a dictionary for edge types and corresponding DataFrames\n",
    "edges = {\n",
    "    ('paper', 'author'): processed_paper_author_df,\n",
    "    ('paper', 'topic'): processed_paper_topic_df,\n",
    "    ('paper', 'venue'): processed_paper_venue_df,\n",
    "    ('paper', 'paper'): processed_paper_paper_df\n",
    "}\n",
    "\n",
    "# Create the StellarGraph object\n",
    "g = StellarGraph(nodes, edges)\n",
    "\n",
    "print(\n",
    "    \"Number of nodes {} and number of edges {} in graph.\".format(\n",
    "        g.number_of_nodes(), g.number_of_edges()\n",
    "    )\n",
    ")\n",
    "\n",
    "print(\"\\n\")\n",
    "\n",
    "print(\"Below is an overview of the StellarGraph structure:\")\n",
    "print(g.info())"
   ]
  },
  {
   "cell_type": "markdown",
   "metadata": {},
   "source": [
    "## Graph Analysis\n",
    "\n",
    "After creating a StellarGraph object, we convert it to NetworkX, since it has a larger library of functions related to graph analysis and statistics."
   ]
  },
  {
   "cell_type": "code",
   "execution_count": 20,
   "metadata": {},
   "outputs": [],
   "source": [
    "import matplotlib.pyplot as plt\n",
    "import networkx as nx"
   ]
  },
  {
   "cell_type": "code",
   "execution_count": 21,
   "metadata": {},
   "outputs": [],
   "source": [
    "# Convert to NetworkX graph\n",
    "nx_graph = g.to_networkx()\n"
   ]
  },
  {
   "cell_type": "markdown",
   "metadata": {},
   "source": [
    "### Degree Distribution of Multi-type Nodes"
   ]
  },
  {
   "cell_type": "code",
   "execution_count": 22,
   "metadata": {},
   "outputs": [
    {
     "data": {
      "image/png": "[encoded data removed]",
      "text/plain": [
       "<Figure size 720x432 with 1 Axes>"
      ]
     },
     "metadata": {
      "needs_background": "light"
     },
     "output_type": "display_data"
    },
    {
     "name": "stdout",
     "output_type": "stream",
     "text": [
      "Average Degree for paper Nodes: 11.146648844758449\n"
     ]
    },
    {
     "data": {
      "image/png": "[encoded data removed]",
      "text/plain": [
       "<Figure size 720x432 with 1 Axes>"
      ]
     },
     "metadata": {
      "needs_background": "light"
     },
     "output_type": "display_data"
    },
    {
     "name": "stdout",
     "output_type": "stream",
     "text": [
      "Average Degree for topic Nodes: 5.923643670462157\n"
     ]
    },
    {
     "data": {
      "image/png": "[encoded data removed]",
      "text/plain": [
       "<Figure size 720x432 with 1 Axes>"
      ]
     },
     "metadata": {
      "needs_background": "light"
     },
     "output_type": "display_data"
    },
    {
     "name": "stdout",
     "output_type": "stream",
     "text": [
      "Average Degree for venue Nodes: 236.55555555555554\n"
     ]
    },
    {
     "data": {
      "image/png": "[encoded data removed]",
      "text/plain": [
       "<Figure size 720x432 with 1 Axes>"
      ]
     },
     "metadata": {
      "needs_background": "light"
     },
     "output_type": "display_data"
    },
    {
     "name": "stdout",
     "output_type": "stream",
     "text": [
      "Average Degree for author Nodes: 2.2973795435333897\n"
     ]
    }
   ],
   "source": [
    "node_types = g.node_types\n",
    "\n",
    "# Get node types\n",
    "node_types = set(nx.get_node_attributes(nx_graph, 'label').values())  # Assuming 'label' is the attribute holding node types\n",
    "\n",
    "# Calculate and plot degree distribution for each node type\n",
    "for node_type in node_types:\n",
    "    # Filter nodes by type\n",
    "    nodes_of_type = [n for n, d in nx_graph.nodes(data=True) if d.get('label') == node_type]\n",
    "    # Calculate degrees\n",
    "    degrees = [nx_graph.degree(n) for n in nodes_of_type]\n",
    "    # Plotting\n",
    "    plt.figure(figsize=(10, 6))\n",
    "    plt.hist(degrees, bins=20)\n",
    "    plt.title(f\"Degree Distribution for {node_type} Nodes\")\n",
    "    plt.xlabel('Degree')\n",
    "    plt.ylabel('Count')\n",
    "    plt.show()\n",
    "\n",
    "    # Average degree calculation\n",
    "    avg_degree = sum(degrees) / len(degrees)\n",
    "    print(f\"Average Degree for {node_type} Nodes: {avg_degree}\")"
   ]
  },
  {
   "cell_type": "code",
   "execution_count": 29,
   "metadata": {},
   "outputs": [
    {
     "name": "stdout",
     "output_type": "stream",
     "text": [
      "Average Degree of the Graph: 6.566170362323471\n"
     ]
    }
   ],
   "source": [
    "# Calculate the sum of the degrees of all nodes\n",
    "total_degree = sum(dict(nx_graph.degree()).values())\n",
    "\n",
    "# Calculate the number of nodes in the graph\n",
    "num_nodes = nx_graph.number_of_nodes()\n",
    "\n",
    "# Calculate the average degree\n",
    "average_degree = total_degree / num_nodes if num_nodes > 0 else 0\n",
    "\n",
    "print(f\"Average Degree of the Graph: {average_degree}\")"
   ]
  },
  {
   "cell_type": "markdown",
   "metadata": {},
   "source": [
    "### Portion of Different Node Types"
   ]
  },
  {
   "cell_type": "code",
   "execution_count": 28,
   "metadata": {},
   "outputs": [
    {
     "data": {
      "image/png": "[encoded data removed]",
      "text/plain": [
       "<Figure size 720x432 with 1 Axes>"
      ]
     },
     "metadata": {},
     "output_type": "display_data"
    }
   ],
   "source": [
    "type_attribute_name = 'label'  # This is just an example; adjust it according to your graph's attribute names\n",
    "\n",
    "# Extracting all node types based on the specified attribute\n",
    "node_types = set(nx.get_node_attributes(nx_graph, type_attribute_name).values())\n",
    "\n",
    "# Counting nodes for each type\n",
    "node_type_counts = {node_type: 0 for node_type in node_types}\n",
    "for _, node_data in nx_graph.nodes(data=True):\n",
    "    node_type = node_data.get(type_attribute_name)\n",
    "    if node_type in node_type_counts:\n",
    "        node_type_counts[node_type] += 1\n",
    "\n",
    "# Ensure that we remove any node type with a count of 0 (if any)\n",
    "node_type_counts = {k: v for k, v in node_type_counts.items() if v > 0}\n",
    "\n",
    "# Check to ensure we have valid data for plotting\n",
    "if node_type_counts:\n",
    "    # Plotting the pie chart\n",
    "    plt.figure(figsize=(10, 6))\n",
    "    plt.pie(node_type_counts.values(), labels=node_type_counts.keys(), autopct='%1.1f%%')\n",
    "    plt.title('Portion of Different Node Types in DBLP Dataset')\n",
    "    plt.show()\n",
    "else:\n",
    "    print(\"No node types with nodes found.\")"
   ]
  },
  {
   "cell_type": "markdown",
   "metadata": {},
   "source": [
    "### Popularity Analysis\n",
    "\n",
    "In network analysis, such plots are often used to display the degree distribution of nodes in a graph. The X-axis represents the degree of nodes (often referred to as \"popularity\" in this context), and the Y-axis represents the number of nodes with that degree. When plotted on a log-log scale, many real-world networks exhibit a linear trend indicating a power-law distribution, which is characteristic of scale-free networks where a few nodes (hubs) have significantly higher degrees compared to the rest.\n",
    "\n",
    "To recreate a plot like this, you'll want to:\n",
    "- Calculate the degree of each node in the network.\n",
    "- Count how many nodes have each degree.\n",
    "- Plot the degree counts on a log-log scale."
   ]
  },
  {
   "cell_type": "code",
   "execution_count": 31,
   "metadata": {},
   "outputs": [
    {
     "data": {
      "image/png": "[encoded data removed]",
      "text/plain": [
       "<Figure size 720x432 with 1 Axes>"
      ]
     },
     "metadata": {
      "needs_background": "light"
     },
     "output_type": "display_data"
    }
   ],
   "source": [
    "from collections import Counter\n",
    "\n",
    "# Assuming your graph is stored in `nx_graph`\n",
    "\n",
    "# Calculate the degrees of all nodes in the graph\n",
    "degrees = [degree for node, degree in nx_graph.degree()]\n",
    "\n",
    "# Count how many times each degree occurs in the network\n",
    "degree_counts = Counter(degrees)\n",
    "\n",
    "# Prepare the data for plotting\n",
    "degrees, counts = zip(*degree_counts.items())\n",
    "\n",
    "# Create a log-log plot of the degree distribution\n",
    "plt.figure(figsize=(10, 6))\n",
    "plt.loglog(degrees, counts, marker='x', linestyle='None', color='magenta')\n",
    "\n",
    "# Adding titles and labels\n",
    "plt.title(\"Popularity Analysis of DBLP Dataset\")\n",
    "plt.xlabel(\"Popularity (Degree)\")\n",
    "plt.ylabel(\"Number\")\n",
    "\n",
    "# Show the plot\n",
    "plt.show()\n"
   ]
  }
 ],
 "metadata": {
  "kernelspec": {
   "display_name": "Python 3",
   "language": "python",
   "name": "python3"
  },
  "language_info": {
   "codemirror_mode": {
    "name": "ipython",
    "version": 3
   },
   "file_extension": ".py",
   "mimetype": "text/x-python",
   "name": "python",
   "nbconvert_exporter": "python",
   "pygments_lexer": "ipython3",
   "version": "3.6.15"
  }
 },
 "nbformat": 4,
 "nbformat_minor": 4
}
