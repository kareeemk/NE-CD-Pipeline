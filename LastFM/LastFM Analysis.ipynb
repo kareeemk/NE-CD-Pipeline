{
 "cells": [
  {
   "cell_type": "markdown",
   "id": "0",
   "metadata": {},
   "source": [
    "# DBLP Dataset Analysis w/ StellarGraph\n",
    "\n",
    "## Loading data into StellarGraph from Pandas"
   ]
  },
  {
   "cell_type": "markdown",
   "id": "2",
   "metadata": {},
   "source": [
    "[The StellarGraph library](https://github.com/stellargraph/stellargraph) supports loading graph information from Pandas. [Pandas](https://pandas.pydata.org) is a library for working with data frames.\n",
    "\n",
    "The StellarGraph library supports many deep machine learning (ML) algorithms on [graphs](https://en.wikipedia.org/wiki/Graph_%28discrete_mathematics%29). A graph consists of a set of *nodes* connected by *edges*, potentially with information associated with each node and edge. Any task using the StellarGraph library needs data to be loaded into an instance of the `StellarGraph` class. This class stores the graph structure (the nodes and the edges between them), as well as information about them:\n",
    "\n",
    "- *node types* and *edge types*: a class or category to which the nodes and edges belong, dictating what features are available on a node, and potentially signifying some sort of semantic meaning (this is different to machine learning label for a node)\n",
    "- *node features* and *edge features*: vectors of numbers associated with each node or edge\n",
    "- *edge weights*: a number associated with each edge\n",
    "\n",
    "All of these are optional, because they have sensible defaults if they're not relevant to the task at hand.\n",
    "\n",
    "> StellarGraph supports loading data from many sources with all sorts of data preprocessing, via [Pandas](https://pandas.pydata.org) DataFrames, [NumPy](https://www.numpy.org) arrays, [Neo4j](https://neo4j.com) and [NetworkX](https://networkx.github.io) graphs. See [all loading demos](README.md) for more details.\n",
    "\n",
    "The [documentation](https://stellargraph.readthedocs.io/en/stable/api.html#stellargraph.StellarGraph) for the `StellarGraph` class includes a compressed reminder of everything discussed in this file, as well as explanations of all of the parameters.\n",
    "\n",
    "The `StellarGraph` class is available at the top level of the `stellargraph` library:"
   ]
  },
  {
   "cell_type": "code",
   "execution_count": 1,
   "id": "5",
   "metadata": {},
   "outputs": [
    {
     "name": "stderr",
     "output_type": "stream",
     "text": [
      "/Users/kareemrahman/.pyenv/versions/3.6.15/lib/python3.6/site-packages/requests/__init__.py:104: RequestsDependencyWarning: urllib3 (1.26.18) or chardet (5.0.0)/charset_normalizer (2.0.12) doesn't match a supported version!\n",
      "  RequestsDependencyWarning)\n"
     ]
    }
   ],
   "source": [
    "from stellargraph import StellarGraph"
   ]
  },
  {
   "cell_type": "markdown",
   "metadata": {},
   "source": [
    "## LastFM Dataset\n",
    "\n",
    "This dataset contains social networking, tagging, and music artist listening information from a set of 2K users from Last.fm online music system. http://www.last.fm \n",
    "\n",
    "The dataset is released in the framework of the 2nd International Workshop on Information Heterogeneity and Fusion in Recommender Systems (HetRec 2011) http://ir.ii.uam.es/hetrec2011 at the 5th ACM Conference on Recommender Systems (RecSys 2011) http://recsys.acm.org/2011 \n",
    "\n",
    "**artists.dat**\n",
    "This file contains information about music artists listened and tagged by the users.\n",
    "\n",
    "**tags.dat**\n",
    "This file contains the set of tags available in the dataset.\n",
    "\n",
    "**user_artists.dat**\n",
    "This file contains the artists listened to by each user. It also provides a listening count for each [user, artist] pair.\n",
    "\n",
    "**user_taggedartists.dat - user_taggedartists-timestamps.dat**\n",
    "These files contain the tag assignments of artists provided by each particular user. They also contain the timestamps when the tag assignments were done.\n",
    "\n",
    "**user_friends.dat**\n",
    "These files contain the friend relations between users in the database."
   ]
  },
  {
   "cell_type": "markdown",
   "id": "6",
   "metadata": {},
   "source": [
    "### Step 1: Loading from .dat Files in Pandas Dataframes\n",
    "\n",
    "Pandas DataFrames are tables of data that can be created from [many input sources](https://pandas.pydata.org/pandas-docs/stable/user_guide/io.html), such as [CSV files](https://pandas.pydata.org/pandas-docs/stable/reference/api/pandas.read_csv.html) and [SQL databases](https://pandas.pydata.org/pandas-docs/stable/reference/api/pandas.read_sql.html). StellarGraph builds on this power by allowing construction from these DataFrames."
   ]
  },
  {
   "cell_type": "markdown",
   "metadata": {},
   "source": [
    "The data is formatted one entry per line as follows (tab separated, \"\\t\")"
   ]
  },
  {
   "cell_type": "code",
   "execution_count": 3,
   "id": "7",
   "metadata": {},
   "outputs": [
    {
     "name": "stdout",
     "output_type": "stream",
     "text": [
      "   id               name\n",
      "0   1       MALICE MIZER\n",
      "1   2    Diary of Dreams\n",
      "2   3  Carpathian Forest\n",
      "3   4       Moi dix Mois\n",
      "4   5        Bella Morte\n",
      "\n",
      "\n",
      "   tagID           tagValue\n",
      "0      1              metal\n",
      "1      2  alternative metal\n",
      "2      3          goth rock\n",
      "3      4        black metal\n",
      "4      5        death metal\n",
      "\n",
      "\n",
      "   userID\n",
      "0       2\n",
      "1       3\n",
      "2       4\n",
      "3       5\n",
      "4       6\n",
      "\n",
      "\n",
      "   userID  artistID\n",
      "0       2        51\n",
      "1       2        52\n",
      "2       2        53\n",
      "3       2        54\n",
      "4       2        55\n",
      "\n",
      "\n",
      "   artistID  tagID\n",
      "0        52     13\n",
      "1        52     15\n",
      "2        52     18\n",
      "3        52     21\n",
      "4        52     41\n",
      "\n",
      "\n",
      "   userID  friendID\n",
      "0       2       275\n",
      "1       2       428\n",
      "2       2       515\n",
      "3       2       761\n",
      "4       2       831\n"
     ]
    }
   ],
   "source": [
    "import pandas as pd\n",
    "\n",
    "#Set correct directory paths to files\n",
    "artist_filename = 'lastfm/artists.dat'\n",
    "tags_filename = 'lastfm/tags.dat'\n",
    "user_artist_filename = 'lastfm/user_artists.dat'\n",
    "tag_artist_filename = 'lastfm/user_taggedartists.dat'\n",
    "user_user_filename = 'lastfm/user_friends.dat'\n",
    "\n",
    "# Read the file and create Node Dataframes\n",
    "artists_df = pd.read_csv(artist_filename, delimiter='\\t', header=0, encoding = 'ISO-8859-1')\n",
    "tags_df = pd.read_csv(tags_filename, delimiter='\\t', header=0, encoding = 'ISO-8859-1')\n",
    "users_df = pd.read_csv(user_artist_filename, delimiter='\\t', header=0, encoding = 'ISO-8859-1')\n",
    "\n",
    "# Read the file and create Edge Dataframes\n",
    "user_artist_df = pd.read_csv(user_artist_filename, delimiter='\\t', header=0, encoding = 'ISO-8859-1')\n",
    "tag_artist_df = pd.read_csv(tag_artist_filename, delimiter='\\t', header=0, encoding = 'ISO-8859-1')\n",
    "user_user_df = pd.read_csv(user_user_filename, delimiter='\\t', header=0, encoding = 'ISO-8859-1')\n",
    "\n",
    "# Remove unnecessary columns in Dataframes as needed\n",
    "artists_df_keep = [\"id\", \"name\"]\n",
    "users_df_keep = [\"userID\"]\n",
    "tag_artist_keep = [\"artistID\", \"tagID\"]\n",
    "user_artist_keep = [\"userID\", \"artistID\"]\n",
    "\n",
    "artists_df = artists_df[artists_df_keep]\n",
    "users_df = users_df[users_df_keep]\n",
    "tag_artist_df = tag_artist_df[tag_artist_keep]\n",
    "user_artist_df = user_artist_df[user_artist_keep]\n",
    "\n",
    "#Remove duplicates in users_df Node Dataframe to isolate individual unique users\n",
    "users_df = users_df.drop_duplicates().reset_index(drop=True)\n",
    "\n",
    "# Display the first few rows\n",
    "print(artists_df.head())\n",
    "print(\"\\n\")\n",
    "print(tags_df.head())\n",
    "print(\"\\n\")\n",
    "print(users_df.head())\n",
    "print(\"\\n\")\n",
    "print(user_artist_df.head())\n",
    "print(\"\\n\")\n",
    "print(tag_artist_df.head())\n",
    "print(\"\\n\")\n",
    "print(user_user_df.head())"
   ]
  },
  {
   "cell_type": "markdown",
   "metadata": {},
   "source": [
    "## Loading Pandas DFs into StellarGraph\n",
    "\n",
    "### Defining Node Data\n",
    "\n",
    "Assuming IDs for each node type are unique, then we can use these to index the dataframe for each node-type. We also need to remove the names from each data frame, as StellarGraph only passes numeric data."
   ]
  },
  {
   "cell_type": "code",
   "execution_count": 4,
   "metadata": {},
   "outputs": [
    {
     "name": "stdout",
     "output_type": "stream",
     "text": [
      "Empty DataFrame\n",
      "Columns: []\n",
      "Index: [a_1, a_2, a_3, a_4, a_5, a_6, a_7, a_8, a_9, a_10, a_11, a_12, a_13, a_15, a_16, a_17, a_18, a_19, a_20, a_21, a_22, a_23, a_24, a_25, a_26, a_27, a_28, a_30, a_31, a_32, a_34, a_36, a_37, a_38, a_39, a_40, a_41, a_43, a_44, a_45, a_46, a_47, a_48, a_49, a_50, a_51, a_52, a_53, a_54, a_55, a_56, a_57, a_58, a_59, a_60, a_61, a_62, a_63, a_64, a_65, a_66, a_67, a_68, a_69, a_70, a_71, a_72, a_73, a_74, a_75, a_76, a_77, a_78, a_79, a_80, a_81, a_82, a_83, a_84, a_85, a_86, a_87, a_88, a_89, a_90, a_91, a_92, a_93, a_94, a_95, a_96, a_97, a_98, a_99, a_100, a_101, a_102, a_103, a_104, a_105, ...]\n",
      "\n",
      "[17632 rows x 0 columns]\n",
      "\n",
      "\n",
      "Empty DataFrame\n",
      "Columns: []\n",
      "Index: [t_1, t_2, t_3, t_4, t_5, t_6, t_7, t_8, t_9, t_10, t_11, t_12, t_13, t_14, t_15, t_16, t_17, t_18, t_19, t_20, t_21, t_22, t_23, t_24, t_25, t_26, t_27, t_28, t_29, t_30, t_31, t_32, t_33, t_34, t_35, t_36, t_37, t_38, t_39, t_40, t_41, t_42, t_43, t_44, t_45, t_46, t_47, t_48, t_49, t_50, t_51, t_52, t_53, t_54, t_55, t_56, t_57, t_58, t_59, t_60, t_61, t_62, t_63, t_64, t_65, t_66, t_67, t_68, t_69, t_70, t_71, t_72, t_73, t_74, t_75, t_76, t_77, t_78, t_79, t_80, t_81, t_82, t_83, t_84, t_85, t_86, t_87, t_88, t_89, t_90, t_91, t_92, t_93, t_94, t_95, t_96, t_97, t_98, t_99, t_100, ...]\n",
      "\n",
      "[11946 rows x 0 columns]\n",
      "\n",
      "\n",
      "Empty DataFrame\n",
      "Columns: []\n",
      "Index: [u_2, u_3, u_4, u_5, u_6, u_7, u_8, u_9, u_10, u_11, u_12, u_13, u_14, u_15, u_16, u_17, u_18, u_20, u_21, u_22, u_23, u_24, u_25, u_26, u_27, u_28, u_29, u_30, u_31, u_32, u_33, u_34, u_35, u_36, u_37, u_38, u_39, u_40, u_41, u_42, u_43, u_44, u_45, u_46, u_47, u_48, u_49, u_50, u_51, u_52, u_53, u_54, u_55, u_56, u_57, u_58, u_59, u_60, u_61, u_62, u_63, u_64, u_65, u_66, u_68, u_69, u_70, u_71, u_72, u_73, u_74, u_75, u_76, u_77, u_78, u_79, u_80, u_81, u_82, u_83, u_84, u_85, u_86, u_87, u_88, u_89, u_90, u_91, u_92, u_94, u_95, u_96, u_97, u_98, u_99, u_100, u_101, u_102, u_103, u_104, ...]\n",
      "\n",
      "[1892 rows x 0 columns]\n",
      "\n",
      "\n",
      "       source   target\n",
      "0         u_2     a_51\n",
      "1         u_2     a_52\n",
      "2         u_2     a_53\n",
      "3         u_2     a_54\n",
      "4         u_2     a_55\n",
      "...       ...      ...\n",
      "92829  u_2100  a_18726\n",
      "92830  u_2100  a_18727\n",
      "92831  u_2100  a_18728\n",
      "92832  u_2100  a_18729\n",
      "92833  u_2100  a_18730\n",
      "\n",
      "[92834 rows x 2 columns]\n",
      "\n",
      "\n",
      "         source  target\n",
      "0          a_52    t_13\n",
      "1          a_52    t_15\n",
      "2          a_52    t_18\n",
      "3          a_52    t_21\n",
      "4          a_52    t_41\n",
      "...         ...     ...\n",
      "186474  a_16437     t_4\n",
      "186475  a_16437   t_292\n",
      "186476  a_16437  t_2087\n",
      "186477  a_16437  t_2801\n",
      "186478  a_16437  t_3335\n",
      "\n",
      "[186479 rows x 2 columns]\n",
      "\n",
      "\n",
      "       source  target\n",
      "0         u_2   u_275\n",
      "1         u_2   u_428\n",
      "2         u_2   u_515\n",
      "3         u_2   u_761\n",
      "4         u_2   u_831\n",
      "...       ...     ...\n",
      "25429  u_2099  u_1801\n",
      "25430  u_2099  u_2006\n",
      "25431  u_2099  u_2016\n",
      "25432  u_2100   u_586\n",
      "25433  u_2100   u_607\n",
      "\n",
      "[25434 rows x 2 columns]\n",
      "\n",
      "\n",
      "Duplicate indices in artists: False\n",
      "Duplicate indices in tags: False\n",
      "Duplicate indices in users: False\n"
     ]
    }
   ],
   "source": [
    "# Copy original DataFrames\n",
    "processed_artists_df = artists_df.copy()\n",
    "processed_tags_df = tags_df.copy()\n",
    "processed_users_df = users_df.copy()\n",
    "processed_user_artist_df = user_artist_df.copy()\n",
    "processed_tag_artist_df = tag_artist_df.copy()\n",
    "processed_user_user_df = user_user_df.copy()\n",
    "\n",
    "\n",
    "# Apply processing steps\n",
    "\n",
    "# Set ID columns as index and add prefix in Node Dataframes\n",
    "processed_artists_df.set_index('id', inplace=True)\n",
    "processed_artists_df.index = processed_artists_df.index.map(lambda x: f'a_{x}')\n",
    "\n",
    "processed_tags_df.set_index('tagID', inplace=True)\n",
    "processed_tags_df.index = processed_tags_df.index.map(lambda x: f't_{x}')\n",
    "\n",
    "processed_users_df.set_index('userID', inplace=True)\n",
    "processed_users_df.index = processed_users_df.index.map(lambda x: f'u_{x}')\n",
    "\n",
    "# Update Edge DataFrames\n",
    "processed_user_artist_df['userID'] = processed_user_artist_df['userID'].map(lambda x: f'u_{x}')\n",
    "processed_user_artist_df['artistID'] = processed_user_artist_df['artistID'].map(lambda x: f'a_{x}')\n",
    "\n",
    "processed_tag_artist_df['artistID'] = processed_tag_artist_df['artistID'].map(lambda x: f'a_{x}')\n",
    "processed_tag_artist_df['tagID'] = processed_tag_artist_df['tagID'].map(lambda x: f't_{x}')\n",
    "\n",
    "processed_user_user_df['userID'] = processed_user_user_df['userID'].map(lambda x: f'u_{x}')\n",
    "processed_user_user_df['friendID'] = processed_user_user_df['friendID'].map(lambda x: f'u_{x}')\n",
    "\n",
    "#Remove columns with String values, as StellarGraph only passes numeric formats\n",
    "processed_artists_df.drop(columns=['name'], inplace=True, errors='ignore')\n",
    "processed_tags_df.drop(columns=['tagValue'], inplace=True, errors='ignore')\n",
    "\n",
    "#Rename Edge DataFrames columns as source and target respectively\n",
    "processed_user_artist_df.rename(columns={'userID': 'source', 'artistID': 'target'}, inplace=True)\n",
    "processed_tag_artist_df.rename(columns={'artistID': 'source', 'tagID': 'target'}, inplace=True)\n",
    "processed_user_user_df.rename(columns={'userID': 'source', 'friendID': 'target'}, inplace=True)\n",
    "\n",
    "\n",
    "print(processed_artists_df)\n",
    "print(\"\\n\")\n",
    "print(processed_tags_df)\n",
    "print(\"\\n\")\n",
    "print(processed_users_df)\n",
    "print(\"\\n\")\n",
    "print(processed_user_artist_df)\n",
    "print(\"\\n\")\n",
    "print(processed_tag_artist_df)\n",
    "print(\"\\n\")\n",
    "print(processed_user_user_df)\n",
    "print(\"\\n\")\n",
    "\n",
    "# Check for unique indices in node DataFrames\n",
    "print(\"Duplicate indices in artists:\", processed_artists_df.index.duplicated().any())\n",
    "print(\"Duplicate indices in tags:\", processed_tags_df.index.duplicated().any())\n",
    "print(\"Duplicate indices in users:\", processed_users_df.index.duplicated().any())\n"
   ]
  },
  {
   "cell_type": "markdown",
   "metadata": {},
   "source": [
    "### Removing Duplicates in Node DFs + Check for Uniqueness\n",
    "\n",
    "Any duplications in node indexes within the node DFs is problematic and must be resolved."
   ]
  },
  {
   "cell_type": "code",
   "execution_count": 5,
   "metadata": {},
   "outputs": [
    {
     "name": "stdout",
     "output_type": "stream",
     "text": [
      "No duplicate IDs across node types.\n",
      "All concatenated IDs are unique: True\n"
     ]
    }
   ],
   "source": [
    "#Convert indices to Series and then concatenate\n",
    "all_ids = pd.concat([processed_artists_df.index.to_series(), \n",
    "                     processed_tags_df.index.to_series(), \n",
    "                     processed_users_df.index.to_series()])\n",
    "\n",
    "#Check for duplicate IDs across all node types\n",
    "duplicated_ids = all_ids[all_ids.duplicated()]\n",
    "if not duplicated_ids.empty:\n",
    "    print(\"There are duplicate IDs across node types.\")\n",
    "    print(\"Duplicate IDs:\", duplicated_ids.unique())\n",
    "else:\n",
    "    print(\"No duplicate IDs across node types.\")\n",
    "\n",
    "#Check if IDs contain unique values after string concatenation \n",
    "print(\"All concatenated IDs are unique:\", all_ids.is_unique)"
   ]
  },
  {
   "cell_type": "markdown",
   "metadata": {},
   "source": [
    "### Removing Duplicates in Edge DFs\n",
    "\n",
    "Any two edges that are identical in the edge DFs must be resolved. We drop the duplicates after this step."
   ]
  },
  {
   "cell_type": "code",
   "execution_count": 6,
   "metadata": {},
   "outputs": [
    {
     "name": "stdout",
     "output_type": "stream",
     "text": [
      "No duplicate edges in 'listens to' relationship.\n",
      "There are duplicate edges in 'tagged on' relationship.\n",
      "Duplicate edges in 'tagged on' relationship:\n",
      "        source  target\n",
      "0         a_52    t_13\n",
      "1         a_52    t_15\n",
      "2         a_52    t_18\n",
      "3         a_52    t_21\n",
      "5         a_63    t_13\n",
      "...        ...     ...\n",
      "186467  a_6658  t_2087\n",
      "186469  a_8322     t_4\n",
      "186470  a_8322  t_3510\n",
      "186471  a_8322  t_4364\n",
      "186472  a_8322  t_4365\n",
      "\n",
      "[100151 rows x 2 columns]\n",
      "No duplicate edges in 'friends with' relationship.\n"
     ]
    }
   ],
   "source": [
    "\n",
    "#Check for and drop duplicates in 'listens to' relationship\n",
    "if processed_user_artist_df.duplicated().any():\n",
    "    print(\"There are duplicate edges in 'listens to' relationship.\")\n",
    "    duplicate_edges_listens = processed_user_artist_df[processed_user_artist_df.duplicated(keep=False)]\n",
    "    print(\"Duplicate edges in 'listens to' relationship:\")\n",
    "    print(duplicate_edges_listens)\n",
    "    processed_user_artist_df = processed_user_artist_df.drop_duplicates()\n",
    "else:\n",
    "    print(\"No duplicate edges in 'listens to' relationship.\")\n",
    "\n",
    "#Check for and drop duplicates in 'tagged on' relationship\n",
    "if processed_tag_artist_df.duplicated().any():\n",
    "    print(\"There are duplicate edges in 'tagged on' relationship.\")\n",
    "    duplicate_edges_tagged = processed_tag_artist_df[processed_tag_artist_df.duplicated(keep=False)]\n",
    "    print(\"Duplicate edges in 'tagged on' relationship:\")\n",
    "    print(duplicate_edges_tagged)\n",
    "    processed_tag_artist_df = processed_tag_artist_df.drop_duplicates()\n",
    "else:\n",
    "    print(\"No duplicate edges in 'tagged on' relationship.\")\n",
    "\n",
    "#Check for and drop duplicates in 'friends with' relationship\n",
    "if processed_user_user_df.duplicated().any():\n",
    "    print(\"There are duplicate edges in 'friends with' relationship.\")\n",
    "    duplicate_edges_friends = processed_user_user_df[processed_user_user_df.duplicated(keep=False)]\n",
    "    print(\"Duplicate edges in 'friends with' relationship:\")\n",
    "    print(duplicate_edges_friends)\n",
    "    processed_user_user_df = processed_user_user_df.drop_duplicates()\n",
    "else:\n",
    "    print(\"No duplicate edges in 'friends with' relationship.\")\n"
   ]
  },
  {
   "cell_type": "markdown",
   "metadata": {},
   "source": [
    "### Checking for Unconnected Nodes\n",
    "\n",
    "In order for the random walks to cover ALL nodes and generate embeddings for each one, only nodes that are connected to others as part of the graph can be considered. We check for unconnected nodes by inspecting the edge dataframes and cross-checking with the node dataframes. \n",
    "\n",
    "If any index is in the node DF BUT NOT in ANY edge DF, THEN we drop it. "
   ]
  },
  {
   "cell_type": "code",
   "execution_count": 7,
   "metadata": {},
   "outputs": [
    {
     "name": "stdout",
     "output_type": "stream",
     "text": [
      "No isolated user nodes.\n",
      "No isolated artist nodes.\n",
      "Isolated tag nodes:\n",
      "Index(['t_60', 't_106', 't_107', 't_110', 't_111', 't_125', 't_126', 't_133',\n",
      "       't_150', 't_151',\n",
      "       ...\n",
      "       't_12621', 't_12623', 't_12624', 't_12625', 't_12628', 't_12629',\n",
      "       't_12634', 't_12636', 't_12637', 't_12648'],\n",
      "      dtype='object', name='tagID', length=2197)\n"
     ]
    }
   ],
   "source": [
    "# Users not connected to artists or other users\n",
    "isolated_users = processed_users_df.index[\n",
    "    ~processed_users_df.index.isin(processed_user_artist_df['source']) &\n",
    "    ~processed_users_df.index.isin(processed_user_user_df['source']) &\n",
    "    ~processed_users_df.index.isin(processed_user_user_df['target'])\n",
    "]\n",
    "if not isolated_users.empty:\n",
    "    print(\"Isolated user nodes:\")\n",
    "    print(isolated_users)\n",
    "else:\n",
    "    print(\"No isolated user nodes.\")\n",
    "\n",
    "# Artists not connected to users or tags\n",
    "isolated_artists = processed_artists_df.index[\n",
    "    ~processed_artists_df.index.isin(processed_user_artist_df['target']) &\n",
    "    ~processed_artists_df.index.isin(processed_tag_artist_df['source'])\n",
    "]\n",
    "if not isolated_artists.empty:\n",
    "    print(\"Isolated artist nodes:\")\n",
    "    print(isolated_artists)\n",
    "else:\n",
    "    print(\"No isolated artist nodes.\")\n",
    "\n",
    "\n",
    "# Tags not connected to artists\n",
    "isolated_tags = processed_tags_df.index[\n",
    "    ~processed_tags_df.index.isin(processed_tag_artist_df['target'])\n",
    "]\n",
    "if not isolated_tags.empty:\n",
    "    print(\"Isolated tag nodes:\")\n",
    "    print(isolated_tags)\n",
    "else:\n",
    "    print(\"No isolated tag nodes.\")"
   ]
  },
  {
   "cell_type": "markdown",
   "metadata": {},
   "source": [
    "### Deleting Unconnected Nodes from Node DFs\n",
    "\n",
    "If a node isn't connected to any other node through edges, it doesn't contribute to the relational information captured by your graph. Removing such nodes can streamline your data and potentially speed up computations, especially for graph algorithms that rely on edge connections. Moreover, since these nodes do not participate in any walks, they wouldn't be included in your Word2Vec training corpus anyway, making their removal from the node lists reasonable.\n",
    "\n",
    "If any index is in the node DF BUT NOT in ANY edge DF, THEN we drop it. "
   ]
  },
  {
   "cell_type": "code",
   "execution_count": 8,
   "metadata": {},
   "outputs": [],
   "source": [
    "# Assuming `isolated_users` contains the indexes of isolated user nodes\n",
    "processed_users_df = processed_users_df.drop(isolated_users, errors='ignore')\n",
    "\n",
    "# Assuming `isolated_artists` contains the indexes of isolated artist nodes\n",
    "processed_artists_df = processed_artists_df.drop(isolated_artists, errors='ignore')\n",
    "\n",
    "# Assuming `isolated_tags` contains the indexes of isolated tag nodes\n",
    "processed_tags_df = processed_tags_df.drop(isolated_tags, errors='ignore')"
   ]
  },
  {
   "cell_type": "markdown",
   "metadata": {},
   "source": [
    "### Analyzing Tag Occurence + Denoising Data\n",
    "\n",
    "We realized that there was an overwhelmingly large number of tags in the LastFM dataset. Since users are the ones assigning tags to artists, it came to our attention that there were a lot of ambiguous tags like \"awesome\" or \"top 10\", which don't add much meaning to our analysis, and could instead cause a lot of noise, as well as unnecessary additional computational overhead. We've already identified in the previous steps that there were already around 2200 isolated tag nodes to be removed.\n",
    "\n",
    "We first look at the fequency distribution of tags used in the dataset, in order to point out the most popular ones. We will also investigate which artists have only one tag assigned to them. as those tags will be kept, in order to maintain as much meaning during the removal of noise.\n",
    "\n",
    "After deciding which tags can be removed, we will update the tags node dataframe and the artist_tag edge dataframe."
   ]
  },
  {
   "cell_type": "markdown",
   "metadata": {},
   "source": [
    "First, we calculate a frequency table based on occurence of each tag in the tag_artist edge dataframe."
   ]
  },
  {
   "cell_type": "code",
   "execution_count": 9,
   "metadata": {},
   "outputs": [
    {
     "data": {
      "text/html": [
       "<div>\n",
       "<style scoped>\n",
       "    .dataframe tbody tr th:only-of-type {\n",
       "        vertical-align: middle;\n",
       "    }\n",
       "\n",
       "    .dataframe tbody tr th {\n",
       "        vertical-align: top;\n",
       "    }\n",
       "\n",
       "    .dataframe thead th {\n",
       "        text-align: right;\n",
       "    }\n",
       "</style>\n",
       "<table border=\"1\" class=\"dataframe\">\n",
       "  <thead>\n",
       "    <tr style=\"text-align: right;\">\n",
       "      <th></th>\n",
       "      <th>tagID</th>\n",
       "      <th>frequency</th>\n",
       "      <th>tagValue</th>\n",
       "    </tr>\n",
       "  </thead>\n",
       "  <tbody>\n",
       "    <tr>\n",
       "      <th>0</th>\n",
       "      <td>t_73</td>\n",
       "      <td>2283</td>\n",
       "      <td>rock</td>\n",
       "    </tr>\n",
       "    <tr>\n",
       "      <th>1</th>\n",
       "      <td>t_18</td>\n",
       "      <td>1749</td>\n",
       "      <td>electronic</td>\n",
       "    </tr>\n",
       "    <tr>\n",
       "      <th>2</th>\n",
       "      <td>t_79</td>\n",
       "      <td>1743</td>\n",
       "      <td>alternative</td>\n",
       "    </tr>\n",
       "    <tr>\n",
       "      <th>3</th>\n",
       "      <td>t_24</td>\n",
       "      <td>1739</td>\n",
       "      <td>pop</td>\n",
       "    </tr>\n",
       "    <tr>\n",
       "      <th>4</th>\n",
       "      <td>t_81</td>\n",
       "      <td>1537</td>\n",
       "      <td>indie</td>\n",
       "    </tr>\n",
       "    <tr>\n",
       "      <th>...</th>\n",
       "      <td>...</td>\n",
       "      <td>...</td>\n",
       "      <td>...</td>\n",
       "    </tr>\n",
       "    <tr>\n",
       "      <th>9744</th>\n",
       "      <td>t_8824</td>\n",
       "      <td>1</td>\n",
       "      <td>accordian</td>\n",
       "    </tr>\n",
       "    <tr>\n",
       "      <th>9745</th>\n",
       "      <td>t_4561</td>\n",
       "      <td>1</td>\n",
       "      <td>legend of music</td>\n",
       "    </tr>\n",
       "    <tr>\n",
       "      <th>9746</th>\n",
       "      <td>t_1852</td>\n",
       "      <td>1</td>\n",
       "      <td>groove armada</td>\n",
       "    </tr>\n",
       "    <tr>\n",
       "      <th>9747</th>\n",
       "      <td>t_2428</td>\n",
       "      <td>1</td>\n",
       "      <td>whitechapel</td>\n",
       "    </tr>\n",
       "    <tr>\n",
       "      <th>9748</th>\n",
       "      <td>t_1699</td>\n",
       "      <td>1</td>\n",
       "      <td>jagger and bowie boned and you know that bowie...</td>\n",
       "    </tr>\n",
       "  </tbody>\n",
       "</table>\n",
       "<p>9749 rows × 3 columns</p>\n",
       "</div>"
      ],
      "text/plain": [
       "       tagID  frequency                                           tagValue\n",
       "0       t_73       2283                                               rock\n",
       "1       t_18       1749                                         electronic\n",
       "2       t_79       1743                                        alternative\n",
       "3       t_24       1739                                                pop\n",
       "4       t_81       1537                                              indie\n",
       "...      ...        ...                                                ...\n",
       "9744  t_8824          1                                          accordian\n",
       "9745  t_4561          1                                    legend of music\n",
       "9746  t_1852          1                                      groove armada\n",
       "9747  t_2428          1                                        whitechapel\n",
       "9748  t_1699          1  jagger and bowie boned and you know that bowie...\n",
       "\n",
       "[9749 rows x 3 columns]"
      ]
     },
     "metadata": {},
     "output_type": "display_data"
    }
   ],
   "source": [
    "\n",
    "tagswnames_df = tags_df.copy()\n",
    "tagswnames_df.set_index('tagID', inplace=True)\n",
    "tagswnames_df.index = tagswnames_df.index.map(lambda x: f't_{x}')\n",
    "\n",
    "\n",
    "# Calculate tag frequency distribution\n",
    "tag_frequency = processed_tag_artist_df['target'].value_counts().reset_index()\n",
    "tag_frequency.columns = ['tagID', 'frequency']\n",
    "\n",
    "# Merge tag names into the tag_frequency DataFrame\n",
    "tag_frequency_with_names = pd.merge(tag_frequency, tagswnames_df, left_on='tagID', right_on='tagID', how='left')\n",
    "\n",
    "display(tag_frequency_with_names)\n"
   ]
  },
  {
   "cell_type": "markdown",
   "metadata": {},
   "source": [
    "Then, we create a list of keywords by detailing genres and moods, allowing us to filter only words that have these keywords in them. Please note that this is NOT an exhaustive list, neither is it ideal. There could be tags filtered out, which ultimately may have been meaningful to keep, but iterating through thousands of tags and manually removing each is impractical/computationally inefficient."
   ]
  },
  {
   "cell_type": "code",
   "execution_count": 10,
   "metadata": {},
   "outputs": [
    {
     "data": {
      "text/html": [
       "<div>\n",
       "<style scoped>\n",
       "    .dataframe tbody tr th:only-of-type {\n",
       "        vertical-align: middle;\n",
       "    }\n",
       "\n",
       "    .dataframe tbody tr th {\n",
       "        vertical-align: top;\n",
       "    }\n",
       "\n",
       "    .dataframe thead th {\n",
       "        text-align: right;\n",
       "    }\n",
       "</style>\n",
       "<table border=\"1\" class=\"dataframe\">\n",
       "  <thead>\n",
       "    <tr style=\"text-align: right;\">\n",
       "      <th></th>\n",
       "      <th>tagID</th>\n",
       "      <th>frequency</th>\n",
       "      <th>tagValue</th>\n",
       "    </tr>\n",
       "  </thead>\n",
       "  <tbody>\n",
       "    <tr>\n",
       "      <th>0</th>\n",
       "      <td>t_73</td>\n",
       "      <td>2283</td>\n",
       "      <td>rock</td>\n",
       "    </tr>\n",
       "    <tr>\n",
       "      <th>1</th>\n",
       "      <td>t_18</td>\n",
       "      <td>1749</td>\n",
       "      <td>electronic</td>\n",
       "    </tr>\n",
       "    <tr>\n",
       "      <th>2</th>\n",
       "      <td>t_79</td>\n",
       "      <td>1743</td>\n",
       "      <td>alternative</td>\n",
       "    </tr>\n",
       "    <tr>\n",
       "      <th>3</th>\n",
       "      <td>t_24</td>\n",
       "      <td>1739</td>\n",
       "      <td>pop</td>\n",
       "    </tr>\n",
       "    <tr>\n",
       "      <th>4</th>\n",
       "      <td>t_81</td>\n",
       "      <td>1537</td>\n",
       "      <td>indie</td>\n",
       "    </tr>\n",
       "    <tr>\n",
       "      <th>...</th>\n",
       "      <td>...</td>\n",
       "      <td>...</td>\n",
       "      <td>...</td>\n",
       "    </tr>\n",
       "    <tr>\n",
       "      <th>9725</th>\n",
       "      <td>t_883</td>\n",
       "      <td>1</td>\n",
       "      <td>philly soul</td>\n",
       "    </tr>\n",
       "    <tr>\n",
       "      <th>9731</th>\n",
       "      <td>t_7085</td>\n",
       "      <td>1</td>\n",
       "      <td>indie rock e alternative</td>\n",
       "    </tr>\n",
       "    <tr>\n",
       "      <th>9732</th>\n",
       "      <td>t_7214</td>\n",
       "      <td>1</td>\n",
       "      <td>intelligent techno</td>\n",
       "    </tr>\n",
       "    <tr>\n",
       "      <th>9735</th>\n",
       "      <td>t_9701</td>\n",
       "      <td>1</td>\n",
       "      <td>indiepop</td>\n",
       "    </tr>\n",
       "    <tr>\n",
       "      <th>9736</th>\n",
       "      <td>t_11667</td>\n",
       "      <td>1</td>\n",
       "      <td>indie rock blase</td>\n",
       "    </tr>\n",
       "  </tbody>\n",
       "</table>\n",
       "<p>2002 rows × 3 columns</p>\n",
       "</div>"
      ],
      "text/plain": [
       "        tagID  frequency                  tagValue\n",
       "0        t_73       2283                      rock\n",
       "1        t_18       1749                electronic\n",
       "2        t_79       1743               alternative\n",
       "3        t_24       1739                       pop\n",
       "4        t_81       1537                     indie\n",
       "...       ...        ...                       ...\n",
       "9725    t_883          1               philly soul\n",
       "9731   t_7085          1  indie rock e alternative\n",
       "9732   t_7214          1        intelligent techno\n",
       "9735   t_9701          1                  indiepop\n",
       "9736  t_11667          1          indie rock blase\n",
       "\n",
       "[2002 rows x 3 columns]"
      ]
     },
     "metadata": {},
     "output_type": "display_data"
    }
   ],
   "source": [
    "# Combining the expanded list of music genres and moods for filtering\n",
    "expanded_retention_keywords = [\n",
    "    'Rock', 'Pop', 'Jazz', 'Blues', 'Classical', 'Hip Hop', 'Rap', 'EDM', 'House', 'Techno', 'Trance', 'Dubstep',\n",
    "    'Drum and Bass', 'Ambient', 'Chillout', 'Reggae', 'Dancehall', 'Ska', 'Punk', 'Metal', 'Heavy Metal', 'Black Metal',\n",
    "    'Death Metal', 'Thrash Metal', 'Doom Metal', 'Folk Metal', 'Power Metal', 'Country', 'Folk', 'Soul', 'R&B', 'Gospel',\n",
    "    'Funk', 'Disco', 'Grunge', 'Indie', 'Indie Rock', 'Indie Pop', 'Alternative', 'Alternative Rock', 'Alternative Pop',\n",
    "    'World Music', 'Latin', 'Drill', 'Jungle' , 'Trance', 'Salsa', 'Reggaeton', 'Bachata', 'Merengue', 'Afrobeat', 'K-Pop', 'J-Pop', 'C-Pop', 'Samba',\n",
    "    'Bossa Nova', 'New Age', 'Opera', 'Electronic', 'Ambient Electronic', 'Synthwave', 'Vaporwave', 'Experimental',\n",
    "    'Energetic', 'Relaxing', 'Happy', 'Sad', 'Romantic', 'Melancholic', 'Angry', 'Chill', 'Uplifting', 'Mysterious',\n",
    "    'Dreamy', 'Nostalgic', 'Aggressive', 'Calm', 'Soothing', 'Dark', 'Light', 'Groovy', 'Moody', 'Reflective',\n",
    "    'Inspirational', 'Tranquil', 'Intense', 'Lively', '80', '90', '70', '60'\n",
    "]\n",
    "\n",
    "# Lowercasing all keywords for case-insensitive matching\n",
    "expanded_retention_keywords = [keyword.lower() for keyword in expanded_retention_keywords]\n",
    "\n",
    "# Creating a pattern to match any of the expanded retention keywords\n",
    "expanded_retention_pattern = '|'.join(expanded_retention_keywords)\n",
    "\n",
    "# Filtering the tags DataFrame to only include rows where the 'tagValue' contains any of the expanded keywords\n",
    "expanded_filtered_tags_df = tag_frequency_with_names[tag_frequency_with_names['tagValue'].str.contains(expanded_retention_pattern, case=False, na=False)]\n",
    "\n",
    "display(expanded_filtered_tags_df)"
   ]
  },
  {
   "cell_type": "code",
   "execution_count": 11,
   "metadata": {},
   "outputs": [
    {
     "data": {
      "image/png": "[encoded data removed]",
      "text/plain": [
       "<Figure size 720x576 with 1 Axes>"
      ]
     },
     "metadata": {
      "needs_background": "light"
     },
     "output_type": "display_data"
    },
    {
     "data": {
      "image/png": "[encoded data removed]",
      "text/plain": [
       "<Figure size 720x576 with 1 Axes>"
      ]
     },
     "metadata": {
      "needs_background": "light"
     },
     "output_type": "display_data"
    }
   ],
   "source": [
    "import matplotlib.pyplot as plt\n",
    "\n",
    "# Assuming you want to plot the top N most frequent tags\n",
    "N = 50\n",
    "top_tags1 = tag_frequency_with_names.sort_values(by='frequency', ascending=False).head(N)\n",
    "\n",
    "# Plotting\n",
    "plt.figure(figsize=(10, 8))\n",
    "plt.barh(top_tags1['tagValue'], top_tags1['frequency'], color='skyblue')\n",
    "plt.xlabel('Frequency')\n",
    "plt.ylabel('Tag')\n",
    "plt.title('Top 50 - Unfiltered Tag Freq. List')\n",
    "plt.gca().invert_yaxis()  # Invert y-axis to have the most frequent tag at the top\n",
    "plt.show()\n",
    "\n",
    "\n",
    "top_tags2 = expanded_filtered_tags_df.sort_values(by='frequency', ascending=False).head(N)\n",
    "\n",
    "# Plotting\n",
    "plt.figure(figsize=(10, 8))\n",
    "plt.barh(top_tags2['tagValue'], top_tags2['frequency'], color='skyblue')\n",
    "plt.xlabel('Frequency')\n",
    "plt.ylabel('Tag')\n",
    "plt.title('Top 50 - Filtered Tag Freq. List')\n",
    "plt.gca().invert_yaxis()  # Invert y-axis to have the most frequent tag at the top\n",
    "plt.show()"
   ]
  },
  {
   "cell_type": "markdown",
   "metadata": {},
   "source": [
    "Additional Information: We were also interested to know how many tags were exlcusively connected to an artist, i.e., if we were to remove it, the artist would have no other tags connected to it. Would that mean that meaning is lost? Or do we hope that our meta-path guided random walks can connected to other tags by seeing similar artists?"
   ]
  },
  {
   "cell_type": "code",
   "execution_count": 12,
   "metadata": {},
   "outputs": [
    {
     "data": {
      "text/plain": [
       "719"
      ]
     },
     "metadata": {},
     "output_type": "display_data"
    }
   ],
   "source": [
    "# Count how many tags each artist has\n",
    "artist_tag_count = processed_tag_artist_df.groupby('source')['target'].nunique().reset_index()\n",
    "artist_tag_count.columns = ['artist_id', 'tag_count']\n",
    "\n",
    "# Filter artists with only one tag\n",
    "sole_tag_artists = artist_tag_count[artist_tag_count['tag_count'] == 1]\n",
    "\n",
    "# Find the tags that are the sole tag for any artist\n",
    "sole_tags = pd.merge(sole_tag_artists, processed_tag_artist_df, left_on='artist_id', right_on='source', how='left')['target'].unique()\n",
    "\n",
    "display(len(sole_tags))"
   ]
  },
  {
   "cell_type": "markdown",
   "metadata": {},
   "source": [
    "### Updating Tags Node DF\n",
    "\n",
    "After filtering out tags, we need to update the **processed_tags_df**. \n",
    "\n",
    "IMPORTANT: **processed_tag_artist_df** dataframe will be updated automatically in the next step when invalid edges are checked and removed."
   ]
  },
  {
   "cell_type": "code",
   "execution_count": 13,
   "metadata": {},
   "outputs": [
    {
     "data": {
      "text/html": [
       "<div>\n",
       "<style scoped>\n",
       "    .dataframe tbody tr th:only-of-type {\n",
       "        vertical-align: middle;\n",
       "    }\n",
       "\n",
       "    .dataframe tbody tr th {\n",
       "        vertical-align: top;\n",
       "    }\n",
       "\n",
       "    .dataframe thead th {\n",
       "        text-align: right;\n",
       "    }\n",
       "</style>\n",
       "<table border=\"1\" class=\"dataframe\">\n",
       "  <thead>\n",
       "    <tr style=\"text-align: right;\">\n",
       "      <th></th>\n",
       "    </tr>\n",
       "    <tr>\n",
       "      <th>tagID</th>\n",
       "    </tr>\n",
       "  </thead>\n",
       "  <tbody>\n",
       "    <tr>\n",
       "      <th>t_1</th>\n",
       "    </tr>\n",
       "    <tr>\n",
       "      <th>t_2</th>\n",
       "    </tr>\n",
       "    <tr>\n",
       "      <th>t_3</th>\n",
       "    </tr>\n",
       "    <tr>\n",
       "      <th>t_4</th>\n",
       "    </tr>\n",
       "    <tr>\n",
       "      <th>t_5</th>\n",
       "    </tr>\n",
       "    <tr>\n",
       "      <th>...</th>\n",
       "    </tr>\n",
       "    <tr>\n",
       "      <th>t_12643</th>\n",
       "    </tr>\n",
       "    <tr>\n",
       "      <th>t_12644</th>\n",
       "    </tr>\n",
       "    <tr>\n",
       "      <th>t_12645</th>\n",
       "    </tr>\n",
       "    <tr>\n",
       "      <th>t_12646</th>\n",
       "    </tr>\n",
       "    <tr>\n",
       "      <th>t_12647</th>\n",
       "    </tr>\n",
       "  </tbody>\n",
       "</table>\n",
       "<p>9749 rows × 0 columns</p>\n",
       "</div>"
      ],
      "text/plain": [
       "Empty DataFrame\n",
       "Columns: []\n",
       "Index: [t_1, t_2, t_3, t_4, t_5, t_6, t_7, t_8, t_9, t_10, t_11, t_12, t_13, t_14, t_15, t_16, t_17, t_18, t_19, t_20, t_21, t_22, t_23, t_24, t_25, t_26, t_27, t_28, t_29, t_30, t_31, t_32, t_33, t_34, t_35, t_36, t_37, t_38, t_39, t_40, t_41, t_42, t_43, t_44, t_45, t_46, t_47, t_48, t_49, t_50, t_51, t_52, t_53, t_54, t_55, t_56, t_57, t_58, t_59, t_61, t_62, t_63, t_64, t_65, t_66, t_67, t_68, t_69, t_70, t_71, t_72, t_73, t_74, t_75, t_76, t_77, t_78, t_79, t_80, t_81, t_82, t_83, t_84, t_85, t_86, t_87, t_88, t_89, t_90, t_91, t_92, t_93, t_94, t_95, t_96, t_97, t_98, t_99, t_100, t_101, ...]\n",
       "\n",
       "[9749 rows x 0 columns]"
      ]
     },
     "metadata": {},
     "output_type": "display_data"
    }
   ],
   "source": [
    "display(processed_tags_df)"
   ]
  },
  {
   "cell_type": "code",
   "execution_count": 14,
   "metadata": {},
   "outputs": [
    {
     "data": {
      "text/html": [
       "<div>\n",
       "<style scoped>\n",
       "    .dataframe tbody tr th:only-of-type {\n",
       "        vertical-align: middle;\n",
       "    }\n",
       "\n",
       "    .dataframe tbody tr th {\n",
       "        vertical-align: top;\n",
       "    }\n",
       "\n",
       "    .dataframe thead th {\n",
       "        text-align: right;\n",
       "    }\n",
       "</style>\n",
       "<table border=\"1\" class=\"dataframe\">\n",
       "  <thead>\n",
       "    <tr style=\"text-align: right;\">\n",
       "      <th></th>\n",
       "    </tr>\n",
       "    <tr>\n",
       "      <th>tagID</th>\n",
       "    </tr>\n",
       "  </thead>\n",
       "  <tbody>\n",
       "    <tr>\n",
       "      <th>t_1</th>\n",
       "    </tr>\n",
       "    <tr>\n",
       "      <th>t_2</th>\n",
       "    </tr>\n",
       "    <tr>\n",
       "      <th>t_3</th>\n",
       "    </tr>\n",
       "    <tr>\n",
       "      <th>t_4</th>\n",
       "    </tr>\n",
       "    <tr>\n",
       "      <th>t_5</th>\n",
       "    </tr>\n",
       "    <tr>\n",
       "      <th>...</th>\n",
       "    </tr>\n",
       "    <tr>\n",
       "      <th>t_12631</th>\n",
       "    </tr>\n",
       "    <tr>\n",
       "      <th>t_12633</th>\n",
       "    </tr>\n",
       "    <tr>\n",
       "      <th>t_12635</th>\n",
       "    </tr>\n",
       "    <tr>\n",
       "      <th>t_12639</th>\n",
       "    </tr>\n",
       "    <tr>\n",
       "      <th>t_12642</th>\n",
       "    </tr>\n",
       "  </tbody>\n",
       "</table>\n",
       "<p>2002 rows × 0 columns</p>\n",
       "</div>"
      ],
      "text/plain": [
       "Empty DataFrame\n",
       "Columns: []\n",
       "Index: [t_1, t_2, t_3, t_4, t_5, t_6, t_7, t_11, t_13, t_14, t_17, t_18, t_19, t_22, t_23, t_24, t_25, t_33, t_35, t_36, t_42, t_43, t_50, t_56, t_65, t_70, t_72, t_73, t_74, t_75, t_76, t_77, t_78, t_79, t_80, t_81, t_82, t_83, t_84, t_85, t_87, t_89, t_90, t_91, t_100, t_101, t_103, t_104, t_105, t_108, t_109, t_113, t_114, t_115, t_120, t_124, t_138, t_139, t_140, t_142, t_143, t_145, t_160, t_164, t_168, t_169, t_170, t_171, t_177, t_181, t_182, t_183, t_187, t_189, t_190, t_192, t_193, t_196, t_197, t_198, t_199, t_202, t_203, t_205, t_233, t_235, t_240, t_241, t_242, t_243, t_244, t_246, t_247, t_249, t_250, t_253, t_255, t_261, t_262, t_263, ...]\n",
       "\n",
       "[2002 rows x 0 columns]"
      ]
     },
     "metadata": {},
     "output_type": "display_data"
    }
   ],
   "source": [
    "# Filter processed_tags_df to keep only tagIDs that are present in expanded_filtered_tags_df\n",
    "# Assuming tagID is the index in processed_tags_df\n",
    "filtered_processed_tags_df = processed_tags_df[processed_tags_df.index.isin(expanded_filtered_tags_df['tagID'])]\n",
    "\n",
    "display(filtered_processed_tags_df)"
   ]
  },
  {
   "cell_type": "markdown",
   "metadata": {},
   "source": [
    "### Checking for Invalid Edges\n",
    "\n",
    "Also, any edges that refer to nodes that are NOT in the node dataframe are considered invalid. These must also be dropped so that we can use StellarGraph."
   ]
  },
  {
   "cell_type": "code",
   "execution_count": 15,
   "metadata": {},
   "outputs": [
    {
     "name": "stdout",
     "output_type": "stream",
     "text": [
      "No invalid edges in 'listens to' relationship.\n",
      "Invalid edges in 'tagged on' relationship:\n",
      "         source target\n",
      "1          a_52   t_15\n",
      "3          a_52   t_21\n",
      "4          a_52   t_41\n",
      "8          a_63   t_40\n",
      "11         a_73   t_15\n",
      "...         ...    ...\n",
      "186455  a_18717  t_758\n",
      "186456  a_18719  t_758\n",
      "186457  a_18721   t_15\n",
      "186458  a_18721  t_758\n",
      "186462  a_18724   t_15\n",
      "\n",
      "[67136 rows x 2 columns]\n",
      "No invalid edges in 'friends with' relationship.\n",
      "The ID a_14103 is not in the DataFrame index.\n"
     ]
    }
   ],
   "source": [
    "# Check for invalid edge references in 'listens to' relationship\n",
    "invalid_edges_listens = processed_user_artist_df[\n",
    "    ~processed_user_artist_df['source'].isin(processed_users_df.index) |\n",
    "    ~processed_user_artist_df['target'].isin(processed_artists_df.index)\n",
    "]\n",
    "if not invalid_edges_listens.empty:\n",
    "    print(\"Invalid edges in 'listens to' relationship:\")\n",
    "    print(invalid_edges_listens)\n",
    "else:\n",
    "    print(\"No invalid edges in 'listens to' relationship.\")\n",
    "\n",
    "# Check for invalid edge references in 'tagged on' relationship\n",
    "invalid_edges_tagged = processed_tag_artist_df[\n",
    "    ~processed_tag_artist_df['source'].isin(processed_artists_df.index) |\n",
    "    ~processed_tag_artist_df['target'].isin(filtered_processed_tags_df.index)\n",
    "]\n",
    "if not invalid_edges_tagged.empty:\n",
    "    print(\"Invalid edges in 'tagged on' relationship:\")\n",
    "    print(invalid_edges_tagged)\n",
    "else:\n",
    "    print(\"No invalid edges in 'tagged on' relationship.\")\n",
    "\n",
    "# Check for invalid edge references in 'friends with' relationship\n",
    "invalid_edges_friends = processed_user_user_df[\n",
    "    ~processed_user_user_df['source'].isin(processed_users_df.index) |\n",
    "    ~processed_user_user_df['target'].isin(processed_users_df.index)\n",
    "]\n",
    "if not invalid_edges_friends.empty:\n",
    "    print(\"Invalid edges in 'friends with' relationship:\")\n",
    "    print(invalid_edges_friends)\n",
    "else:\n",
    "    print(\"No invalid edges in 'friends with' relationship.\")\n",
    "\n",
    "\n",
    "testid = 'a_14103'\n",
    "\n",
    "if testid in processed_artists_df.index:\n",
    "    print(f\"The ID {testid} is in the DataFrame index.\")\n",
    "else:\n",
    "    print(f\"The ID {testid} is not in the DataFrame index.\")"
   ]
  },
  {
   "cell_type": "markdown",
   "metadata": {},
   "source": [
    "It seems that there are invalid edges in the 'tagged on' Edge Dataframe between Artists and Tags (i.e., a_14103 is not found in the Artist node Dataframe). For this reason, we will drop these edges from the dataframe."
   ]
  },
  {
   "cell_type": "code",
   "execution_count": 16,
   "metadata": {},
   "outputs": [],
   "source": [
    "# invalid_edges_tagged is the DataFrame containing the invalid rows\n",
    "# Drop these rows from processed_tag_artist_df\n",
    "processed_tag_artist_df = processed_tag_artist_df.drop(invalid_edges_tagged.index)\n",
    "\n",
    "# Reset the index for a continuous index after the drop\n",
    "processed_tag_artist_df.reset_index(drop=True, inplace=True)"
   ]
  },
  {
   "cell_type": "markdown",
   "metadata": {},
   "source": [
    "### Final Check for StellarGraph Input"
   ]
  },
  {
   "cell_type": "code",
   "execution_count": 17,
   "metadata": {},
   "outputs": [
    {
     "name": "stdout",
     "output_type": "stream",
     "text": [
      "Data type of artists_df index: object\n",
      "Data type of tags_df index: object\n",
      "Data type of users_df index: object\n",
      "Empty DataFrame\n",
      "Columns: []\n",
      "Index: [a_1, a_2, a_3, a_4, a_5, a_6, a_7, a_8, a_9, a_10, a_11, a_12, a_13, a_15, a_16, a_17, a_18, a_19, a_20, a_21, a_22, a_23, a_24, a_25, a_26, a_27, a_28, a_30, a_31, a_32, a_34, a_36, a_37, a_38, a_39, a_40, a_41, a_43, a_44, a_45, a_46, a_47, a_48, a_49, a_50, a_51, a_52, a_53, a_54, a_55, a_56, a_57, a_58, a_59, a_60, a_61, a_62, a_63, a_64, a_65, a_66, a_67, a_68, a_69, a_70, a_71, a_72, a_73, a_74, a_75, a_76, a_77, a_78, a_79, a_80, a_81, a_82, a_83, a_84, a_85, a_86, a_87, a_88, a_89, a_90, a_91, a_92, a_93, a_94, a_95, a_96, a_97, a_98, a_99, a_100, a_101, a_102, a_103, a_104, a_105, ...]\n",
      "\n",
      "[17632 rows x 0 columns]\n",
      "\n",
      "\n",
      "Empty DataFrame\n",
      "Columns: []\n",
      "Index: [t_1, t_2, t_3, t_4, t_5, t_6, t_7, t_11, t_13, t_14, t_17, t_18, t_19, t_22, t_23, t_24, t_25, t_33, t_35, t_36, t_42, t_43, t_50, t_56, t_65, t_70, t_72, t_73, t_74, t_75, t_76, t_77, t_78, t_79, t_80, t_81, t_82, t_83, t_84, t_85, t_87, t_89, t_90, t_91, t_100, t_101, t_103, t_104, t_105, t_108, t_109, t_113, t_114, t_115, t_120, t_124, t_138, t_139, t_140, t_142, t_143, t_145, t_160, t_164, t_168, t_169, t_170, t_171, t_177, t_181, t_182, t_183, t_187, t_189, t_190, t_192, t_193, t_196, t_197, t_198, t_199, t_202, t_203, t_205, t_233, t_235, t_240, t_241, t_242, t_243, t_244, t_246, t_247, t_249, t_250, t_253, t_255, t_261, t_262, t_263, ...]\n",
      "\n",
      "[2002 rows x 0 columns]\n",
      "\n",
      "\n",
      "Empty DataFrame\n",
      "Columns: []\n",
      "Index: [u_2, u_3, u_4, u_5, u_6, u_7, u_8, u_9, u_10, u_11, u_12, u_13, u_14, u_15, u_16, u_17, u_18, u_20, u_21, u_22, u_23, u_24, u_25, u_26, u_27, u_28, u_29, u_30, u_31, u_32, u_33, u_34, u_35, u_36, u_37, u_38, u_39, u_40, u_41, u_42, u_43, u_44, u_45, u_46, u_47, u_48, u_49, u_50, u_51, u_52, u_53, u_54, u_55, u_56, u_57, u_58, u_59, u_60, u_61, u_62, u_63, u_64, u_65, u_66, u_68, u_69, u_70, u_71, u_72, u_73, u_74, u_75, u_76, u_77, u_78, u_79, u_80, u_81, u_82, u_83, u_84, u_85, u_86, u_87, u_88, u_89, u_90, u_91, u_92, u_94, u_95, u_96, u_97, u_98, u_99, u_100, u_101, u_102, u_103, u_104, ...]\n",
      "\n",
      "[1892 rows x 0 columns]\n",
      "\n",
      "\n",
      "Data type of source in user_artist_df: object\n",
      "Data type of target in user_artist_df: object\n",
      "Data type of source in tag_artist_df: object\n",
      "Data type of target in tag_artist_df: object\n",
      "Data type of source in user_user_df: object\n",
      "Data type of target in user_user_df: object\n",
      "       source   target\n",
      "0         u_2     a_51\n",
      "1         u_2     a_52\n",
      "2         u_2     a_53\n",
      "3         u_2     a_54\n",
      "4         u_2     a_55\n",
      "...       ...      ...\n",
      "92829  u_2100  a_18726\n",
      "92830  u_2100  a_18727\n",
      "92831  u_2100  a_18728\n",
      "92832  u_2100  a_18729\n",
      "92833  u_2100  a_18730\n",
      "\n",
      "[92834 rows x 2 columns]\n",
      "\n",
      "\n",
      "        source  target\n",
      "0         a_52    t_13\n",
      "1         a_52    t_18\n",
      "2         a_63    t_13\n",
      "3         a_63    t_14\n",
      "4         a_63    t_23\n",
      "...        ...     ...\n",
      "42609  a_16437     t_4\n",
      "42610  a_16437   t_292\n",
      "42611  a_16437  t_2087\n",
      "42612  a_16437  t_2801\n",
      "42613  a_16437  t_3335\n",
      "\n",
      "[42614 rows x 2 columns]\n",
      "\n",
      "\n",
      "       source  target\n",
      "0         u_2   u_275\n",
      "1         u_2   u_428\n",
      "2         u_2   u_515\n",
      "3         u_2   u_761\n",
      "4         u_2   u_831\n",
      "...       ...     ...\n",
      "25429  u_2099  u_1801\n",
      "25430  u_2099  u_2006\n",
      "25431  u_2099  u_2016\n",
      "25432  u_2100   u_586\n",
      "25433  u_2100   u_607\n",
      "\n",
      "[25434 rows x 2 columns]\n",
      "\n",
      "\n"
     ]
    }
   ],
   "source": [
    "#Check if data types are all matching for suitable StellarGraph input\n",
    "\n",
    "# Print data types of indices of node DataFrames\n",
    "print(\"Data type of artists_df index:\", processed_artists_df.index.dtype)\n",
    "print(\"Data type of tags_df index:\", filtered_processed_tags_df.index.dtype)\n",
    "print(\"Data type of users_df index:\", processed_users_df.index.dtype)\n",
    "\n",
    "# Check if node numbers are consistent\n",
    "print(processed_artists_df)\n",
    "print(\"\\n\")\n",
    "print(filtered_processed_tags_df)\n",
    "print(\"\\n\")\n",
    "print(processed_users_df)\n",
    "print(\"\\n\")\n",
    "\n",
    "\n",
    "# Print data types of 'source' and 'target' in edge DataFrames\n",
    "print(\"Data type of source in user_artist_df:\", processed_user_artist_df['source'].dtype)\n",
    "print(\"Data type of target in user_artist_df:\", processed_user_artist_df['target'].dtype)\n",
    "print(\"Data type of source in tag_artist_df:\", processed_tag_artist_df['source'].dtype)\n",
    "print(\"Data type of target in tag_artist_df:\", processed_tag_artist_df['target'].dtype)\n",
    "print(\"Data type of source in user_user_df:\", processed_user_user_df['source'].dtype)\n",
    "print(\"Data type of target in user_user_df:\", processed_user_user_df['target'].dtype)\n",
    "\n",
    "# Check if edge numbers are consistent\n",
    "print(processed_user_artist_df)\n",
    "print(\"\\n\")\n",
    "print(processed_tag_artist_df)\n",
    "print(\"\\n\")\n",
    "print(processed_user_user_df)\n",
    "print(\"\\n\")"
   ]
  },
  {
   "cell_type": "markdown",
   "metadata": {},
   "source": [
    "We can modify the approach to create unique numerical IDs across all edge DataFrames. To do this, you can concatenate all edge DataFrames, create a unique numerical ID, and then split them back. This way, each edge in the entire dataset will have a unique ID.\n",
    "\n",
    "This approach ensures that each edge across all your relationships ('listens to', 'tagged on', 'friends with') has a unique, numerical identifier."
   ]
  },
  {
   "cell_type": "code",
   "execution_count": 18,
   "metadata": {},
   "outputs": [],
   "source": [
    "# 1. Concatenate all edge DataFrames with an additional column for edge type\n",
    "all_edges = pd.concat([\n",
    "    processed_user_artist_df.assign(edge_type=\"listens to\"),\n",
    "    processed_tag_artist_df.assign(edge_type=\"tagged on\"),\n",
    "    processed_user_user_df.assign(edge_type=\"friends with\")\n",
    "]).reset_index(drop=True)\n",
    "\n",
    "# 2. Add unique numerical edge IDs\n",
    "all_edges['edge_id'] = range(all_edges.shape[0])\n",
    "\n",
    "# 3. Split the DataFrames back\n",
    "processed_user_artist_df = all_edges[all_edges['edge_type'] == \"listens to\"].drop('edge_type', axis=1)\n",
    "processed_tag_artist_df = all_edges[all_edges['edge_type'] == \"tagged on\"].drop('edge_type', axis=1)\n",
    "processed_user_user_df = all_edges[all_edges['edge_type'] == \"friends with\"].drop('edge_type', axis=1)"
   ]
  },
  {
   "cell_type": "markdown",
   "metadata": {},
   "source": [
    "### Passing DFs into StellarGraph Function"
   ]
  },
  {
   "cell_type": "code",
   "execution_count": 19,
   "metadata": {},
   "outputs": [
    {
     "name": "stdout",
     "output_type": "stream",
     "text": [
      "Number of nodes 21526 and number of edges 160882 in graph.\n",
      "\n",
      "\n",
      "Below is an overview of the StellarGraph structure:\n"
     ]
    },
    {
     "name": "stdout",
     "output_type": "stream",
     "text": [
      "StellarGraph: Undirected multigraph\n",
      " Nodes: 21526, Edges: 160882\n",
      "\n",
      " Node types:\n",
      "  artist: [17632]\n",
      "    Features: none\n",
      "    Edge types: artist-listens to->user, artist-tagged on->tag\n",
      "  tag: [2002]\n",
      "    Features: none\n",
      "    Edge types: tag-tagged on->artist\n",
      "  user: [1892]\n",
      "    Features: none\n",
      "    Edge types: user-friends with->user, user-listens to->artist\n",
      "\n",
      " Edge types:\n",
      "    artist-listens to->user: [92834]\n",
      "        Weights: all 1 (default)\n",
      "        Features: float32 vector, length 1\n",
      "    artist-tagged on->tag: [42614]\n",
      "        Weights: all 1 (default)\n",
      "        Features: float32 vector, length 1\n",
      "    user-friends with->user: [25434]\n",
      "        Weights: all 1 (default)\n",
      "        Features: float32 vector, length 1\n"
     ]
    }
   ],
   "source": [
    "# Create the StellarGraph object with processed data\n",
    "g = StellarGraph({\n",
    "    \"artist\": processed_artists_df,\n",
    "    \"tag\": filtered_processed_tags_df,\n",
    "    \"user\": processed_users_df\n",
    "}, {\n",
    "    \"listens to\": processed_user_artist_df,\n",
    "    \"tagged on\": processed_tag_artist_df,\n",
    "    \"friends with\": processed_user_user_df,\n",
    "})\n",
    "\n",
    "print(\n",
    "    \"Number of nodes {} and number of edges {} in graph.\".format(\n",
    "        g.number_of_nodes(), g.number_of_edges()\n",
    "    )\n",
    ")\n",
    "\n",
    "print(\"\\n\")\n",
    "\n",
    "print(\"Below is an overview of the StellarGraph structure:\")\n",
    "print(g.info())"
   ]
  },
  {
   "cell_type": "markdown",
   "metadata": {},
   "source": [
    "## Graph Analysis\n",
    "\n",
    "After creating a StellarGraph object, we convert it to NetworkX, since it has a larger library of functions related to graph analysis and statistics."
   ]
  },
  {
   "cell_type": "code",
   "execution_count": 20,
   "metadata": {},
   "outputs": [],
   "source": [
    "import matplotlib.pyplot as plt\n",
    "import networkx as nx"
   ]
  },
  {
   "cell_type": "code",
   "execution_count": 21,
   "metadata": {},
   "outputs": [],
   "source": [
    "# Convert to NetworkX graph\n",
    "nx_graph = g.to_networkx()"
   ]
  },
  {
   "cell_type": "markdown",
   "metadata": {},
   "source": [
    "### Degree Distribution of Multi-type Nodes"
   ]
  },
  {
   "cell_type": "code",
   "execution_count": 22,
   "metadata": {},
   "outputs": [
    {
     "data": {
      "image/png": "[encoded data removed]",
      "text/plain": [
       "<Figure size 720x432 with 1 Axes>"
      ]
     },
     "metadata": {
      "needs_background": "light"
     },
     "output_type": "display_data"
    },
    {
     "name": "stdout",
     "output_type": "stream",
     "text": [
      "Average Degree for user Nodes: 75.95243128964059\n"
     ]
    },
    {
     "data": {
      "image/png": "[encoded data removed]",
      "text/plain": [
       "<Figure size 720x432 with 1 Axes>"
      ]
     },
     "metadata": {
      "needs_background": "light"
     },
     "output_type": "display_data"
    },
    {
     "name": "stdout",
     "output_type": "stream",
     "text": [
      "Average Degree for artist Nodes: 7.681941923774954\n"
     ]
    },
    {
     "data": {
      "image/png": "[encoded data removed]",
      "text/plain": [
       "<Figure size 720x432 with 1 Axes>"
      ]
     },
     "metadata": {
      "needs_background": "light"
     },
     "output_type": "display_data"
    },
    {
     "name": "stdout",
     "output_type": "stream",
     "text": [
      "Average Degree for tag Nodes: 21.285714285714285\n"
     ]
    }
   ],
   "source": [
    "node_types = g.node_types\n",
    "\n",
    "# Get node types\n",
    "node_types = set(nx.get_node_attributes(nx_graph, 'label').values())  # Assuming 'label' is the attribute holding node types\n",
    "\n",
    "# Calculate and plot degree distribution for each node type\n",
    "for node_type in node_types:\n",
    "    # Filter nodes by type\n",
    "    nodes_of_type = [n for n, d in nx_graph.nodes(data=True) if d.get('label') == node_type]\n",
    "    # Calculate degrees\n",
    "    degrees = [nx_graph.degree(n) for n in nodes_of_type]\n",
    "    # Plotting\n",
    "    plt.figure(figsize=(10, 6))\n",
    "    plt.hist(degrees, bins=20)\n",
    "    plt.title(f\"Degree Distribution for {node_type} Nodes\")\n",
    "    plt.xlabel('Degree')\n",
    "    plt.ylabel('Count')\n",
    "    plt.show()\n",
    "\n",
    "    # Average degree calculation\n",
    "    avg_degree = sum(degrees) / len(degrees)\n",
    "    print(f\"Average Degree for {node_type} Nodes: {avg_degree}\")"
   ]
  },
  {
   "cell_type": "code",
   "execution_count": 23,
   "metadata": {},
   "outputs": [
    {
     "name": "stdout",
     "output_type": "stream",
     "text": [
      "Average Degree of the Graph: 14.947691164173557\n"
     ]
    }
   ],
   "source": [
    "# Calculate the sum of the degrees of all nodes\n",
    "total_degree = sum(dict(nx_graph.degree()).values())\n",
    "\n",
    "# Calculate the number of nodes in the graph\n",
    "num_nodes = nx_graph.number_of_nodes()\n",
    "\n",
    "# Calculate the average degree\n",
    "average_degree = total_degree / num_nodes if num_nodes > 0 else 0\n",
    "\n",
    "print(f\"Average Degree of the Graph: {average_degree}\")"
   ]
  },
  {
   "cell_type": "markdown",
   "metadata": {},
   "source": [
    "### Portion of Different Node Types"
   ]
  },
  {
   "cell_type": "code",
   "execution_count": 25,
   "metadata": {},
   "outputs": [
    {
     "data": {
      "image/png": "[encoded data removed]",
      "text/plain": [
       "<Figure size 720x432 with 1 Axes>"
      ]
     },
     "metadata": {},
     "output_type": "display_data"
    }
   ],
   "source": [
    "type_attribute_name = 'label'  # This is just an example; adjust it according to your graph's attribute names\n",
    "\n",
    "# Extracting all node types based on the specified attribute\n",
    "node_types = set(nx.get_node_attributes(nx_graph, type_attribute_name).values())\n",
    "\n",
    "# Counting nodes for each type\n",
    "node_type_counts = {node_type: 0 for node_type in node_types}\n",
    "for _, node_data in nx_graph.nodes(data=True):\n",
    "    node_type = node_data.get(type_attribute_name)\n",
    "    if node_type in node_type_counts:\n",
    "        node_type_counts[node_type] += 1\n",
    "\n",
    "# Ensure that we remove any node type with a count of 0 (if any)\n",
    "node_type_counts = {k: v for k, v in node_type_counts.items() if v > 0}\n",
    "\n",
    "# Check to ensure we have valid data for plotting\n",
    "if node_type_counts:\n",
    "    # Plotting the pie chart\n",
    "    plt.figure(figsize=(10, 6))\n",
    "    plt.pie(node_type_counts.values(), labels=node_type_counts.keys(), autopct='%1.1f%%')\n",
    "    plt.title('Portion of Different Node Types in LastFM Dataset')\n",
    "    plt.show()\n",
    "else:\n",
    "    print(\"No node types with nodes found.\")"
   ]
  },
  {
   "cell_type": "markdown",
   "metadata": {},
   "source": [
    "### Popularity Analysis\n",
    "\n",
    "In network analysis, such plots are often used to display the degree distribution of nodes in a graph. The X-axis represents the degree of nodes (often referred to as \"popularity\" in this context), and the Y-axis represents the number of nodes with that degree. When plotted on a log-log scale, many real-world networks exhibit a linear trend indicating a power-law distribution, which is characteristic of scale-free networks where a few nodes (hubs) have significantly higher degrees compared to the rest.\n",
    "\n",
    "To recreate a plot like this, you'll want to:\n",
    "- Calculate the degree of each node in the network.\n",
    "- Count how many nodes have each degree.\n",
    "- Plot the degree counts on a log-log scale."
   ]
  },
  {
   "cell_type": "code",
   "execution_count": 27,
   "metadata": {},
   "outputs": [
    {
     "data": {
      "image/png": "[encoded data removed]",
      "text/plain": [
       "<Figure size 720x432 with 1 Axes>"
      ]
     },
     "metadata": {
      "needs_background": "light"
     },
     "output_type": "display_data"
    }
   ],
   "source": [
    "from collections import Counter\n",
    "\n",
    "# Assuming your graph is stored in `nx_graph`\n",
    "\n",
    "# Calculate the degrees of all nodes in the graph\n",
    "degrees = [degree for node, degree in nx_graph.degree()]\n",
    "\n",
    "# Count how many times each degree occurs in the network\n",
    "degree_counts = Counter(degrees)\n",
    "\n",
    "# Prepare the data for plotting\n",
    "degrees, counts = zip(*degree_counts.items())\n",
    "\n",
    "# Create a log-log plot of the degree distribution\n",
    "plt.figure(figsize=(10, 6))\n",
    "plt.loglog(degrees, counts, marker='x', linestyle='None', color='magenta')\n",
    "\n",
    "# Adding titles and labels\n",
    "plt.title(\"Popularity Analysis of LastFM Dataset\")\n",
    "plt.xlabel(\"Popularity (Degree)\")\n",
    "plt.ylabel(\"Number\")\n",
    "\n",
    "# Show the plot\n",
    "plt.show()\n"
   ]
  }
 ],
 "metadata": {
  "kernelspec": {
   "display_name": "Python 3",
   "language": "python",
   "name": "python3"
  },
  "language_info": {
   "codemirror_mode": {
    "name": "ipython",
    "version": 3
   },
   "file_extension": ".py",
   "mimetype": "text/x-python",
   "name": "python",
   "nbconvert_exporter": "python",
   "pygments_lexer": "ipython3",
   "version": "3.6.15"
  }
 },
 "nbformat": 4,
 "nbformat_minor": 4
}
