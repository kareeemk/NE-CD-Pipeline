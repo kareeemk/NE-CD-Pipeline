{
 "cells": [
  {
   "cell_type": "markdown",
   "metadata": {},
   "source": [
    "# Experimental Analysis of Static Community Detection Using JUST\n",
    "\n",
    "Running both the Louvain and Leiden algorithms multiple times and recording various statistics for each run can provide valuable insights for our analysis."
   ]
  },
  {
   "cell_type": "markdown",
   "metadata": {},
   "source": [
    "## Importing Edge List w/ Weights to NetworkX\n",
    "\n",
    "NetworkX's read_weighted_edgelist function expects a simple text file with lines of the form <node1> <node2> <weight>, without headers. Since our data is in CSV format, you'll need to use Pandas (or another method) to load the CSV and adjust it to become readable."
   ]
  },
  {
   "cell_type": "code",
   "execution_count": 1,
   "metadata": {},
   "outputs": [
    {
     "name": "stdout",
     "output_type": "stream",
     "text": [
      "            source    target    weight\n",
      "0        u74717431  t7748381  0.957671\n",
      "1       u127821914  t3529910  0.426984\n",
      "2       u174194590  t5762915  0.369877\n",
      "3       u141847381  t6987845  0.745354\n",
      "4        u87215499  t4082536  0.946200\n",
      "...            ...       ...       ...\n",
      "641279     ci20717       co3 -0.007842\n",
      "641280     ci20718       co9  0.022677\n",
      "641281     ci20719       co5 -0.050816\n",
      "641282     ci20720       co3 -0.178938\n",
      "641283     ci20721       co4  0.128145\n",
      "\n",
      "[641284 rows x 3 columns]\n"
     ]
    }
   ],
   "source": [
    "import pandas as pd\n",
    "\n",
    "edge_list_df = pd.read_csv('Input/JUST_edge_list_with_similarity.csv')\n",
    "\n",
    "print(edge_list_df)"
   ]
  },
  {
   "cell_type": "code",
   "execution_count": 2,
   "metadata": {},
   "outputs": [
    {
     "name": "stdout",
     "output_type": "stream",
     "text": [
      "Number of edges with negative weights: 102041\n"
     ]
    }
   ],
   "source": [
    "negative_weights = edge_list_df[edge_list_df['weight'] < 0]\n",
    "print(f\"Number of edges with negative weights: {len(negative_weights)}\")"
   ]
  },
  {
   "cell_type": "markdown",
   "metadata": {},
   "source": [
    "Since Louvain is not made to consider negative edge weights, we will rescale the weights such that instead of [-1, 1] being the range, it is now [0, 1], where 0 now represents perfect dissimilarity, 0.5 represents orthogonality, and 1 represents perfect similarity."
   ]
  },
  {
   "cell_type": "code",
   "execution_count": 3,
   "metadata": {},
   "outputs": [
    {
     "name": "stdout",
     "output_type": "stream",
     "text": [
      "            source    target    weight\n",
      "0        u74717431  t7748381  0.978835\n",
      "1       u127821914  t3529910  0.713492\n",
      "2       u174194590  t5762915  0.684939\n",
      "3       u141847381  t6987845  0.872677\n",
      "4        u87215499  t4082536  0.973100\n",
      "...            ...       ...       ...\n",
      "641279     ci20717       co3  0.496079\n",
      "641280     ci20718       co9  0.511339\n",
      "641281     ci20719       co5  0.474592\n",
      "641282     ci20720       co3  0.410531\n",
      "641283     ci20721       co4  0.564072\n",
      "\n",
      "[641284 rows x 3 columns]\n"
     ]
    }
   ],
   "source": [
    "edge_list_df['weight'] = (edge_list_df['weight'] + 1) / 2\n",
    "\n",
    "print(edge_list_df)"
   ]
  },
  {
   "cell_type": "markdown",
   "metadata": {},
   "source": [
    "Before we continue with the creation of a graph, NetworkX specifies that an undirected, weighted graph must not have self-loop, parallel edges (A->B, B->A), or duplicate edges."
   ]
  },
  {
   "cell_type": "code",
   "execution_count": 4,
   "metadata": {},
   "outputs": [
    {
     "name": "stdout",
     "output_type": "stream",
     "text": [
      "Number of duplicate edges: 0\n",
      "Number of self-loops: 0\n",
      "source    0\n",
      "target    0\n",
      "weight    0\n",
      "dtype: int64\n"
     ]
    }
   ],
   "source": [
    "duplicate_edges = edge_list_df.duplicated(subset=['source', 'target'], keep=False)\n",
    "print(f\"Number of duplicate edges: {duplicate_edges.sum()}\")\n",
    "\n",
    "self_loops = edge_list_df[edge_list_df['source'] == edge_list_df['target']]\n",
    "print(f\"Number of self-loops: {len(self_loops)}\")\n",
    "\n",
    "print(edge_list_df.isnull().sum())"
   ]
  },
  {
   "cell_type": "code",
   "execution_count": 5,
   "metadata": {},
   "outputs": [
    {
     "name": "stdout",
     "output_type": "stream",
     "text": [
      "Empty DataFrame\n",
      "Columns: [source, target, weight]\n",
      "Index: []\n"
     ]
    }
   ],
   "source": [
    "# Find duplicate edges (ignoring the weight column)\n",
    "duplicate_edges = edge_list_df.duplicated(subset=['source', 'target'], keep=False)\n",
    "\n",
    "# Filter to get only the duplicate edges\n",
    "parallel_edges_df = edge_list_df[duplicate_edges]\n",
    "\n",
    "# Sort to better visualize parallel edges\n",
    "parallel_edges_sorted = parallel_edges_df.sort_values(by=['source', 'target'])\n",
    "\n",
    "print(parallel_edges_sorted)"
   ]
  },
  {
   "cell_type": "markdown",
   "metadata": {},
   "source": [
    "We check for any non-numeric values in the weight column, since this will not be valid when input into a graph object."
   ]
  },
  {
   "cell_type": "code",
   "execution_count": 6,
   "metadata": {},
   "outputs": [
    {
     "name": "stdout",
     "output_type": "stream",
     "text": [
      "Empty DataFrame\n",
      "Columns: [source, target, weight]\n",
      "Index: []\n"
     ]
    }
   ],
   "source": [
    "# Check for any non-numeric values in the 'weight' column\n",
    "non_numeric_weights = edge_list_df[pd.to_numeric(edge_list_df['weight'], errors='coerce').isna()]\n",
    "\n",
    "# Display rows with non-numeric or NaN weights\n",
    "print(non_numeric_weights)"
   ]
  },
  {
   "cell_type": "code",
   "execution_count": 7,
   "metadata": {},
   "outputs": [
    {
     "name": "stdout",
     "output_type": "stream",
     "text": [
      "source     object\n",
      "target     object\n",
      "weight    float64\n",
      "dtype: object\n"
     ]
    }
   ],
   "source": [
    "# Convert the 'weight' column to floating point values\n",
    "edge_list_df['weight'] = edge_list_df['weight'].astype(float)\n",
    "\n",
    "# Check the data type of the column to confirm the conversion\n",
    "print(edge_list_df.dtypes)"
   ]
  },
  {
   "cell_type": "code",
   "execution_count": 8,
   "metadata": {},
   "outputs": [
    {
     "data": {
      "text/html": [
       "<div>\n",
       "<style scoped>\n",
       "    .dataframe tbody tr th:only-of-type {\n",
       "        vertical-align: middle;\n",
       "    }\n",
       "\n",
       "    .dataframe tbody tr th {\n",
       "        vertical-align: top;\n",
       "    }\n",
       "\n",
       "    .dataframe thead th {\n",
       "        text-align: right;\n",
       "    }\n",
       "</style>\n",
       "<table border=\"1\" class=\"dataframe\">\n",
       "  <thead>\n",
       "    <tr style=\"text-align: right;\">\n",
       "      <th></th>\n",
       "      <th>source</th>\n",
       "      <th>target</th>\n",
       "      <th>weight</th>\n",
       "    </tr>\n",
       "  </thead>\n",
       "  <tbody>\n",
       "    <tr>\n",
       "      <th>0</th>\n",
       "      <td>u74717431</td>\n",
       "      <td>t7748381</td>\n",
       "      <td>0.978835</td>\n",
       "    </tr>\n",
       "    <tr>\n",
       "      <th>1</th>\n",
       "      <td>u127821914</td>\n",
       "      <td>t3529910</td>\n",
       "      <td>0.713492</td>\n",
       "    </tr>\n",
       "    <tr>\n",
       "      <th>2</th>\n",
       "      <td>u174194590</td>\n",
       "      <td>t5762915</td>\n",
       "      <td>0.684939</td>\n",
       "    </tr>\n",
       "    <tr>\n",
       "      <th>3</th>\n",
       "      <td>u141847381</td>\n",
       "      <td>t6987845</td>\n",
       "      <td>0.872677</td>\n",
       "    </tr>\n",
       "    <tr>\n",
       "      <th>4</th>\n",
       "      <td>u87215499</td>\n",
       "      <td>t4082536</td>\n",
       "      <td>0.973100</td>\n",
       "    </tr>\n",
       "    <tr>\n",
       "      <th>...</th>\n",
       "      <td>...</td>\n",
       "      <td>...</td>\n",
       "      <td>...</td>\n",
       "    </tr>\n",
       "    <tr>\n",
       "      <th>641279</th>\n",
       "      <td>ci20717</td>\n",
       "      <td>co3</td>\n",
       "      <td>0.496079</td>\n",
       "    </tr>\n",
       "    <tr>\n",
       "      <th>641280</th>\n",
       "      <td>ci20718</td>\n",
       "      <td>co9</td>\n",
       "      <td>0.511339</td>\n",
       "    </tr>\n",
       "    <tr>\n",
       "      <th>641281</th>\n",
       "      <td>ci20719</td>\n",
       "      <td>co5</td>\n",
       "      <td>0.474592</td>\n",
       "    </tr>\n",
       "    <tr>\n",
       "      <th>641282</th>\n",
       "      <td>ci20720</td>\n",
       "      <td>co3</td>\n",
       "      <td>0.410531</td>\n",
       "    </tr>\n",
       "    <tr>\n",
       "      <th>641283</th>\n",
       "      <td>ci20721</td>\n",
       "      <td>co4</td>\n",
       "      <td>0.564072</td>\n",
       "    </tr>\n",
       "  </tbody>\n",
       "</table>\n",
       "<p>641284 rows × 3 columns</p>\n",
       "</div>"
      ],
      "text/plain": [
       "            source    target    weight\n",
       "0        u74717431  t7748381  0.978835\n",
       "1       u127821914  t3529910  0.713492\n",
       "2       u174194590  t5762915  0.684939\n",
       "3       u141847381  t6987845  0.872677\n",
       "4        u87215499  t4082536  0.973100\n",
       "...            ...       ...       ...\n",
       "641279     ci20717       co3  0.496079\n",
       "641280     ci20718       co9  0.511339\n",
       "641281     ci20719       co5  0.474592\n",
       "641282     ci20720       co3  0.410531\n",
       "641283     ci20721       co4  0.564072\n",
       "\n",
       "[641284 rows x 3 columns]"
      ]
     },
     "metadata": {},
     "output_type": "display_data"
    }
   ],
   "source": [
    "display(edge_list_df)"
   ]
  },
  {
   "cell_type": "markdown",
   "metadata": {},
   "source": [
    "## Creating Undirected Weighted NX Graph\n",
    "\n",
    "We iterate over the edge list DataFrame rows to add edges along with their weights to a new NetworkX graph.\n"
   ]
  },
  {
   "cell_type": "code",
   "execution_count": 9,
   "metadata": {},
   "outputs": [],
   "source": [
    "import networkx as nx\n",
    "\n",
    "def get_graph_info(graph):\n",
    "    print(\"Number of nodes:\", graph.number_of_nodes())\n",
    "    print(\"Number of edges:\", graph.number_of_edges())\n",
    "    \n",
    "    # Checking the graph type to provide appropriate information\n",
    "    if isinstance(graph, nx.DiGraph):\n",
    "        print(\"Graph is Directed\")\n",
    "    else:\n",
    "        print(\"Graph is Undirected\")\n"
   ]
  },
  {
   "cell_type": "code",
   "execution_count": 10,
   "metadata": {},
   "outputs": [],
   "source": [
    "# Initialize a new graph\n",
    "G = nx.MultiGraph()\n",
    "\n",
    "# Add edges and weights\n",
    "for index, row in edge_list_df.iterrows():\n",
    "    source = row['source']\n",
    "    target = row['target']\n",
    "    weight = row['weight']\n",
    "    \n",
    "    # Add the edge with weight\n",
    "    G.add_edge(source, target, weight=weight)"
   ]
  },
  {
   "cell_type": "code",
   "execution_count": 11,
   "metadata": {},
   "outputs": [
    {
     "name": "stdout",
     "output_type": "stream",
     "text": [
      "Number of nodes: 245760\n",
      "Number of edges: 641284\n",
      "Graph is Undirected\n"
     ]
    }
   ],
   "source": [
    "get_graph_info(G)"
   ]
  },
  {
   "cell_type": "markdown",
   "metadata": {},
   "source": [
    "## Creating Undirected Weighted iGraph for Leiden\n",
    "\n",
    "Provided that running Leiden on the MusicMicro dataset was problematic, we decided to isolate the issue and directly use iGraph, as suggested by Leiden's authors.  \n",
    "\n",
    "We iterate over the edge list DataFrame rows to add edges into a tuple list, along with their weights in a separate list for input into a new iGraph graph."
   ]
  },
  {
   "cell_type": "code",
   "execution_count": 12,
   "metadata": {},
   "outputs": [
    {
     "name": "stdout",
     "output_type": "stream",
     "text": [
      "[0.9788354573755722, 0.7134917524156085, 0.6849385653326384, 0.8726768455516055, 0.9730999967361242]\n",
      "IGRAPH UNW- 245760 641284 -- \n",
      "+ attr: name (v), weight (e)\n"
     ]
    }
   ],
   "source": [
    "import igraph as ig\n",
    "\n",
    "# Assuming edge_list_df is your DataFrame\n",
    "edges_with_weights = [(row['source'], row['target'], row['weight']) for index, row in edge_list_df.iterrows()]\n",
    "\n",
    "# Creating the igraph Graph\n",
    "g = ig.Graph.TupleList(edges_with_weights, edge_attrs={'weight': [w for _, _, w in edges_with_weights]})\n",
    "\n",
    "# Now, check again if the weights have been correctly assigned\n",
    "print(g.es['weight'][:5])\n",
    "print(g.summary())"
   ]
  },
  {
   "cell_type": "markdown",
   "metadata": {},
   "source": [
    "## Testing Modularity, Run Time and No. of Communities\n",
    "\n",
    "- Iterates 10 times, running both the Louvain (using CDLib) and Leiden (using iGraph) algorithms on each iteration.\n",
    "- Records modularity, number of communities, and execution time for each run.\n",
    "- Calculates the average modularity, average number of communities, and average execution time for both algorithms across all runs.\n",
    "- Stores all this information in the results dictionary for easy access and analysis."
   ]
  },
  {
   "cell_type": "code",
   "execution_count": 13,
   "metadata": {},
   "outputs": [
    {
     "name": "stdout",
     "output_type": "stream",
     "text": [
      "Note: to be able to use all crisp methods, you need to install some additional packages:  {'wurlitzer', 'graph_tool', 'bayanpy', 'infomap'}\n",
      "Note: to be able to use all crisp methods, you need to install some additional packages:  {'ASLPAw', 'pyclustering'}\n",
      "Note: to be able to use all crisp methods, you need to install some additional packages:  {'wurlitzer', 'infomap'}\n"
     ]
    }
   ],
   "source": [
    "import time\n",
    "import numpy as np\n",
    "from cdlib import algorithms\n",
    "import leidenalg\n",
    "\n",
    "# Prepare lists to store results\n",
    "results = {\n",
    "    \"Louvain\": {\"modularity\": [], \"communities\": [], \"time\": []},\n",
    "    \"Leiden\": {\"modularity\": [], \"communities\": [], \"time\": []}\n",
    "}\n",
    "\n",
    "# Execute each algorithm 10 times\n",
    "for _ in range(10):\n",
    "    # Louvain\n",
    "    start_time = time.time()\n",
    "    communities_louvain = algorithms.louvain(G)\n",
    "    elapsed_time = time.time() - start_time\n",
    "    results[\"Louvain\"][\"modularity\"].append(communities_louvain.newman_girvan_modularity().score)\n",
    "    results[\"Louvain\"][\"communities\"].append(len(communities_louvain.communities))\n",
    "    results[\"Louvain\"][\"time\"].append(elapsed_time)\n",
    "    \n",
    "    # Leiden\n",
    "    start_time = time.time()\n",
    "    partition = leidenalg.find_partition(g, partition_type=leidenalg.ModularityVertexPartition, weights='weight')\n",
    "    elapsed_time = time.time() - start_time\n",
    "    results[\"Leiden\"][\"modularity\"].append(partition.modularity)\n",
    "    results[\"Leiden\"][\"communities\"].append(len(partition))\n",
    "    results[\"Leiden\"][\"time\"].append(elapsed_time)\n",
    "\n",
    "# Calculate averages\n",
    "for method in results:\n",
    "    results[method][\"avg_modularity\"] = np.mean(results[method][\"modularity\"])\n",
    "    results[method][\"avg_time\"] = np.mean(results[method][\"time\"])\n",
    "    results[method][\"avg_communities\"] = np.mean(results[method][\"communities\"])"
   ]
  },
  {
   "cell_type": "code",
   "execution_count": 14,
   "metadata": {},
   "outputs": [
    {
     "name": "stdout",
     "output_type": "stream",
     "text": [
      "{'Louvain': {'modularity': [0.5656893453610867, 0.64984092144641, 0.6292031128923042, 0.6282723170386361, 0.6543256512558635, 0.5654575762229106, 0.565773856750705, 0.652945267900033, 0.6518107717223783, 0.6527041078458777], 'communities': [53442, 47500, 47478, 47370, 46751, 53331, 53350, 47176, 47187, 45873], 'time': [155.24511098861694, 299.6578559875488, 167.96519112586975, 140.24966883659363, 241.565575838089, 133.41029405593872, 183.64130902290344, 141.2367868423462, 269.01964497566223, 243.0229251384735], 'avg_modularity': 0.6216022928436206, 'avg_time': 197.50143628120424, 'avg_communities': 48945.8}, 'Leiden': {'modularity': [0.5959704298751747, 0.5904229328542269, 0.5911978190177319, 0.5968931287490375, 0.596234834000226, 0.5954904998090195, 0.5911924642374996, 0.5916931290554548, 0.595612127053086, 0.5912204936525011], 'communities': [467, 628, 621, 504, 467, 550, 626, 631, 491, 633], 'time': [17.330739974975586, 17.59577989578247, 20.839152812957764, 15.963630199432373, 16.676746129989624, 16.079410791397095, 19.201507091522217, 16.22776198387146, 16.64451789855957, 18.349777936935425], 'avg_modularity': 0.5935927858303958, 'avg_time': 17.49090247154236, 'avg_communities': 561.8}}\n"
     ]
    }
   ],
   "source": [
    "# Print or store the results as needed\n",
    "print(results)"
   ]
  },
  {
   "cell_type": "code",
   "execution_count": 15,
   "metadata": {},
   "outputs": [
    {
     "name": "stdout",
     "output_type": "stream",
     "text": [
      "   Algorithm  Run  Modularity  Communities    Time (s)\n",
      "0    Louvain    1    0.565689        53442  155.245111\n",
      "1    Louvain    2    0.649841        47500  299.657856\n",
      "2    Louvain    3    0.629203        47478  167.965191\n",
      "3    Louvain    4    0.628272        47370  140.249669\n",
      "4    Louvain    5    0.654326        46751  241.565576\n",
      "5    Louvain    6    0.565458        53331  133.410294\n",
      "6    Louvain    7    0.565774        53350  183.641309\n",
      "7    Louvain    8    0.652945        47176  141.236787\n",
      "8    Louvain    9    0.651811        47187  269.019645\n",
      "9    Louvain   10    0.652704        45873  243.022925\n",
      "10    Leiden    1    0.595970          467   17.330740\n",
      "11    Leiden    2    0.590423          628   17.595780\n",
      "12    Leiden    3    0.591198          621   20.839153\n",
      "13    Leiden    4    0.596893          504   15.963630\n",
      "14    Leiden    5    0.596235          467   16.676746\n",
      "15    Leiden    6    0.595490          550   16.079411\n",
      "16    Leiden    7    0.591192          626   19.201507\n",
      "17    Leiden    8    0.591693          631   16.227762\n",
      "18    Leiden    9    0.595612          491   16.644518\n",
      "19    Leiden   10    0.591220          633   18.349778\n",
      "  Algorithm  Avg. Modularity  Avg. Communities  Avg. Time (s)\n",
      "0   Louvain         0.621602           48945.8     197.501436\n",
      "1    Leiden         0.593593             561.8      17.490902\n"
     ]
    }
   ],
   "source": [
    "# Convert the results dictionary into a pandas DataFrame\n",
    "# First, prepare the data in a structured form\n",
    "data = {\n",
    "    \"Algorithm\": [],\n",
    "    \"Run\": [],\n",
    "    \"Modularity\": [],\n",
    "    \"Communities\": [],\n",
    "    \"Time (s)\": []\n",
    "}\n",
    "\n",
    "# Populate the structured data from the results\n",
    "for algo in results:\n",
    "    for run in range(10):  # Assuming 10 runs as previously set\n",
    "        data[\"Algorithm\"].append(algo)\n",
    "        data[\"Run\"].append(run + 1)  # Run number (1-10)\n",
    "        data[\"Modularity\"].append(results[algo][\"modularity\"][run])\n",
    "        data[\"Communities\"].append(results[algo][\"communities\"][run])\n",
    "        data[\"Time (s)\"].append(results[algo][\"time\"][run])\n",
    "\n",
    "# Creating the DataFrame\n",
    "results_df = pd.DataFrame(data)\n",
    "\n",
    "# Display the DataFrame for visual inspection\n",
    "print(results_df)\n",
    "\n",
    "# Additionally, creating a summary DataFrame for averages\n",
    "summary_data = {\n",
    "    \"Algorithm\": [\"Louvain\", \"Leiden\"],\n",
    "    \"Avg. Modularity\": [results[\"Louvain\"][\"avg_modularity\"], results[\"Leiden\"][\"avg_modularity\"]],\n",
    "    \"Avg. Communities\": [results[\"Louvain\"][\"avg_communities\"], results[\"Leiden\"][\"avg_communities\"]],\n",
    "    \"Avg. Time (s)\": [results[\"Louvain\"][\"avg_time\"], results[\"Leiden\"][\"avg_time\"]]\n",
    "}\n",
    "\n",
    "summary_df = pd.DataFrame(summary_data)\n",
    "\n",
    "# Display the summary DataFrame\n",
    "print(summary_df)"
   ]
  },
  {
   "cell_type": "code",
   "execution_count": 16,
   "metadata": {},
   "outputs": [],
   "source": [
    "# Save the DataFrame to a CSV file\n",
    "csv_filename = 'JUST_CD_Experiment_Values.csv'\n",
    "results_df.to_csv(csv_filename, index=False)"
   ]
  }
 ],
 "metadata": {
  "kernelspec": {
   "display_name": "Python 3",
   "language": "python",
   "name": "python3"
  },
  "language_info": {
   "codemirror_mode": {
    "name": "ipython",
    "version": 3
   },
   "file_extension": ".py",
   "mimetype": "text/x-python",
   "name": "python",
   "nbconvert_exporter": "python",
   "pygments_lexer": "ipython3",
   "version": "3.9.7"
  }
 },
 "nbformat": 4,
 "nbformat_minor": 2
}
