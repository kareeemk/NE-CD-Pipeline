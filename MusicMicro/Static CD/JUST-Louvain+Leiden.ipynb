{
 "cells": [
  {
   "cell_type": "markdown",
   "metadata": {},
   "source": [
    "# Static Community Detection Using CDLIB, NetworkX and iGraph - JUST\n",
    "\n",
    "After calculating similairties and updating the edge list with the values, we will look to execute the well-known Louvain using NetworkX and CDLib, Leiden using iGraph."
   ]
  },
  {
   "cell_type": "markdown",
   "metadata": {},
   "source": [
    "## Importing Edge List w/ Weights to NetworkX\n",
    "\n",
    "NetworkX's read_weighted_edgelist function expects a simple text file with lines of the form <node1> <node2> <weight>, without headers. Since our data is in CSV format, you'll need to use Pandas (or another method) to load the CSV and adjust it to become readable."
   ]
  },
  {
   "cell_type": "code",
   "execution_count": 1,
   "metadata": {},
   "outputs": [
    {
     "name": "stdout",
     "output_type": "stream",
     "text": [
      "            source    target    weight\n",
      "0        u74717431  t7748381  0.957671\n",
      "1       u127821914  t3529910  0.426984\n",
      "2       u174194590  t5762915  0.369877\n",
      "3       u141847381  t6987845  0.745354\n",
      "4        u87215499  t4082536  0.946200\n",
      "...            ...       ...       ...\n",
      "641279     ci20717       co3 -0.007842\n",
      "641280     ci20718       co9  0.022677\n",
      "641281     ci20719       co5 -0.050816\n",
      "641282     ci20720       co3 -0.178938\n",
      "641283     ci20721       co4  0.128145\n",
      "\n",
      "[641284 rows x 3 columns]\n"
     ]
    }
   ],
   "source": [
    "import pandas as pd\n",
    "\n",
    "edge_list_df = pd.read_csv('Input/JUST_edge_list_with_similarity.csv')\n",
    "\n",
    "print(edge_list_df)"
   ]
  },
  {
   "cell_type": "code",
   "execution_count": 2,
   "metadata": {},
   "outputs": [
    {
     "name": "stdout",
     "output_type": "stream",
     "text": [
      "Number of edges with negative weights: 102041\n"
     ]
    }
   ],
   "source": [
    "negative_weights = edge_list_df[edge_list_df['weight'] < 0]\n",
    "print(f\"Number of edges with negative weights: {len(negative_weights)}\")"
   ]
  },
  {
   "cell_type": "markdown",
   "metadata": {},
   "source": [
    "Since Louvain is not made to consider negative edge weights, we will rescale the weights such that instead of [-1, 1] being the range, it is now [0, 1], where 0 now represents perfect dissimilarity, 0.5 represents orthogonality, and 1 represents perfect similarity."
   ]
  },
  {
   "cell_type": "code",
   "execution_count": 3,
   "metadata": {},
   "outputs": [
    {
     "name": "stdout",
     "output_type": "stream",
     "text": [
      "            source    target    weight\n",
      "0        u74717431  t7748381  0.978835\n",
      "1       u127821914  t3529910  0.713492\n",
      "2       u174194590  t5762915  0.684939\n",
      "3       u141847381  t6987845  0.872677\n",
      "4        u87215499  t4082536  0.973100\n",
      "...            ...       ...       ...\n",
      "641279     ci20717       co3  0.496079\n",
      "641280     ci20718       co9  0.511339\n",
      "641281     ci20719       co5  0.474592\n",
      "641282     ci20720       co3  0.410531\n",
      "641283     ci20721       co4  0.564072\n",
      "\n",
      "[641284 rows x 3 columns]\n"
     ]
    }
   ],
   "source": [
    "edge_list_df['weight'] = (edge_list_df['weight'] + 1) / 2\n",
    "\n",
    "print(edge_list_df)"
   ]
  },
  {
   "cell_type": "markdown",
   "metadata": {},
   "source": [
    "Before we continue with the creation of a graph, NetworkX specifies that an undirected, weighted graph must not have self-loop, parallel edges (A->B, B->A), or duplicate edges."
   ]
  },
  {
   "cell_type": "code",
   "execution_count": 4,
   "metadata": {},
   "outputs": [
    {
     "name": "stdout",
     "output_type": "stream",
     "text": [
      "Number of duplicate edges: 0\n",
      "Number of self-loops: 0\n",
      "source    0\n",
      "target    0\n",
      "weight    0\n",
      "dtype: int64\n"
     ]
    }
   ],
   "source": [
    "duplicate_edges = edge_list_df.duplicated(subset=['source', 'target'], keep=False)\n",
    "print(f\"Number of duplicate edges: {duplicate_edges.sum()}\")\n",
    "\n",
    "self_loops = edge_list_df[edge_list_df['source'] == edge_list_df['target']]\n",
    "print(f\"Number of self-loops: {len(self_loops)}\")\n",
    "\n",
    "print(edge_list_df.isnull().sum())"
   ]
  },
  {
   "cell_type": "code",
   "execution_count": 5,
   "metadata": {},
   "outputs": [
    {
     "name": "stdout",
     "output_type": "stream",
     "text": [
      "Empty DataFrame\n",
      "Columns: [source, target, weight]\n",
      "Index: []\n"
     ]
    }
   ],
   "source": [
    "# Find duplicate edges (ignoring the weight column)\n",
    "duplicate_edges = edge_list_df.duplicated(subset=['source', 'target'], keep=False)\n",
    "\n",
    "# Filter to get only the duplicate edges\n",
    "parallel_edges_df = edge_list_df[duplicate_edges]\n",
    "\n",
    "# Sort to better visualize parallel edges\n",
    "parallel_edges_sorted = parallel_edges_df.sort_values(by=['source', 'target'])\n",
    "\n",
    "print(parallel_edges_sorted)"
   ]
  },
  {
   "cell_type": "markdown",
   "metadata": {},
   "source": [
    "We check for any non-numeric values in the weight column, since this will not be valid when input into a graph object."
   ]
  },
  {
   "cell_type": "code",
   "execution_count": 6,
   "metadata": {},
   "outputs": [
    {
     "name": "stdout",
     "output_type": "stream",
     "text": [
      "Empty DataFrame\n",
      "Columns: [source, target, weight]\n",
      "Index: []\n"
     ]
    }
   ],
   "source": [
    "# Check for any non-numeric values in the 'weight' column\n",
    "non_numeric_weights = edge_list_df[pd.to_numeric(edge_list_df['weight'], errors='coerce').isna()]\n",
    "\n",
    "# Display rows with non-numeric or NaN weights\n",
    "print(non_numeric_weights)"
   ]
  },
  {
   "cell_type": "code",
   "execution_count": 7,
   "metadata": {},
   "outputs": [
    {
     "name": "stdout",
     "output_type": "stream",
     "text": [
      "source     object\n",
      "target     object\n",
      "weight    float64\n",
      "dtype: object\n"
     ]
    }
   ],
   "source": [
    "# Convert the 'weight' column to floating point values\n",
    "edge_list_df['weight'] = edge_list_df['weight'].astype(float)\n",
    "\n",
    "# Check the data type of the column to confirm the conversion\n",
    "print(edge_list_df.dtypes)"
   ]
  },
  {
   "cell_type": "code",
   "execution_count": 8,
   "metadata": {},
   "outputs": [
    {
     "data": {
      "text/html": [
       "<div>\n",
       "<style scoped>\n",
       "    .dataframe tbody tr th:only-of-type {\n",
       "        vertical-align: middle;\n",
       "    }\n",
       "\n",
       "    .dataframe tbody tr th {\n",
       "        vertical-align: top;\n",
       "    }\n",
       "\n",
       "    .dataframe thead th {\n",
       "        text-align: right;\n",
       "    }\n",
       "</style>\n",
       "<table border=\"1\" class=\"dataframe\">\n",
       "  <thead>\n",
       "    <tr style=\"text-align: right;\">\n",
       "      <th></th>\n",
       "      <th>source</th>\n",
       "      <th>target</th>\n",
       "      <th>weight</th>\n",
       "    </tr>\n",
       "  </thead>\n",
       "  <tbody>\n",
       "    <tr>\n",
       "      <th>0</th>\n",
       "      <td>u74717431</td>\n",
       "      <td>t7748381</td>\n",
       "      <td>0.978835</td>\n",
       "    </tr>\n",
       "    <tr>\n",
       "      <th>1</th>\n",
       "      <td>u127821914</td>\n",
       "      <td>t3529910</td>\n",
       "      <td>0.713492</td>\n",
       "    </tr>\n",
       "    <tr>\n",
       "      <th>2</th>\n",
       "      <td>u174194590</td>\n",
       "      <td>t5762915</td>\n",
       "      <td>0.684939</td>\n",
       "    </tr>\n",
       "    <tr>\n",
       "      <th>3</th>\n",
       "      <td>u141847381</td>\n",
       "      <td>t6987845</td>\n",
       "      <td>0.872677</td>\n",
       "    </tr>\n",
       "    <tr>\n",
       "      <th>4</th>\n",
       "      <td>u87215499</td>\n",
       "      <td>t4082536</td>\n",
       "      <td>0.973100</td>\n",
       "    </tr>\n",
       "    <tr>\n",
       "      <th>...</th>\n",
       "      <td>...</td>\n",
       "      <td>...</td>\n",
       "      <td>...</td>\n",
       "    </tr>\n",
       "    <tr>\n",
       "      <th>641279</th>\n",
       "      <td>ci20717</td>\n",
       "      <td>co3</td>\n",
       "      <td>0.496079</td>\n",
       "    </tr>\n",
       "    <tr>\n",
       "      <th>641280</th>\n",
       "      <td>ci20718</td>\n",
       "      <td>co9</td>\n",
       "      <td>0.511339</td>\n",
       "    </tr>\n",
       "    <tr>\n",
       "      <th>641281</th>\n",
       "      <td>ci20719</td>\n",
       "      <td>co5</td>\n",
       "      <td>0.474592</td>\n",
       "    </tr>\n",
       "    <tr>\n",
       "      <th>641282</th>\n",
       "      <td>ci20720</td>\n",
       "      <td>co3</td>\n",
       "      <td>0.410531</td>\n",
       "    </tr>\n",
       "    <tr>\n",
       "      <th>641283</th>\n",
       "      <td>ci20721</td>\n",
       "      <td>co4</td>\n",
       "      <td>0.564072</td>\n",
       "    </tr>\n",
       "  </tbody>\n",
       "</table>\n",
       "<p>641284 rows × 3 columns</p>\n",
       "</div>"
      ],
      "text/plain": [
       "            source    target    weight\n",
       "0        u74717431  t7748381  0.978835\n",
       "1       u127821914  t3529910  0.713492\n",
       "2       u174194590  t5762915  0.684939\n",
       "3       u141847381  t6987845  0.872677\n",
       "4        u87215499  t4082536  0.973100\n",
       "...            ...       ...       ...\n",
       "641279     ci20717       co3  0.496079\n",
       "641280     ci20718       co9  0.511339\n",
       "641281     ci20719       co5  0.474592\n",
       "641282     ci20720       co3  0.410531\n",
       "641283     ci20721       co4  0.564072\n",
       "\n",
       "[641284 rows x 3 columns]"
      ]
     },
     "metadata": {},
     "output_type": "display_data"
    }
   ],
   "source": [
    "display(edge_list_df)"
   ]
  },
  {
   "cell_type": "markdown",
   "metadata": {},
   "source": [
    "## Creating Undirected Weighted NX Graph\n",
    "\n",
    "We iterate over the edge list DataFrame rows to add edges along with their weights to a new NetworkX graph.\n"
   ]
  },
  {
   "cell_type": "code",
   "execution_count": 9,
   "metadata": {},
   "outputs": [],
   "source": [
    "import networkx as nx\n",
    "\n",
    "def get_graph_info(graph):\n",
    "    print(\"Number of nodes:\", graph.number_of_nodes())\n",
    "    print(\"Number of edges:\", graph.number_of_edges())\n",
    "    \n",
    "    # Checking the graph type to provide appropriate information\n",
    "    if isinstance(graph, nx.DiGraph):\n",
    "        print(\"Graph is Directed\")\n",
    "    else:\n",
    "        print(\"Graph is Undirected\")\n"
   ]
  },
  {
   "cell_type": "code",
   "execution_count": 10,
   "metadata": {},
   "outputs": [],
   "source": [
    "# Initialize a new graph\n",
    "G = nx.MultiGraph()\n",
    "\n",
    "# Add edges and weights\n",
    "for index, row in edge_list_df.iterrows():\n",
    "    source = row['source']\n",
    "    target = row['target']\n",
    "    weight = row['weight']\n",
    "    \n",
    "    # Add the edge with weight\n",
    "    G.add_edge(source, target, weight=weight)"
   ]
  },
  {
   "cell_type": "code",
   "execution_count": 11,
   "metadata": {},
   "outputs": [
    {
     "name": "stdout",
     "output_type": "stream",
     "text": [
      "Number of nodes: 245760\n",
      "Number of edges: 641284\n",
      "Graph is Undirected\n"
     ]
    }
   ],
   "source": [
    "get_graph_info(G)"
   ]
  },
  {
   "cell_type": "markdown",
   "metadata": {},
   "source": [
    "## Running Louvain Using CDLIB + NX\n",
    "\n",
    "CDlib (Community Discovery Library) is designed for community detection and analysis, providing easy access to various algorithms, including Louvain and Leiden, and tools for evaluating and visualizing the results."
   ]
  },
  {
   "cell_type": "code",
   "execution_count": 12,
   "metadata": {},
   "outputs": [
    {
     "name": "stdout",
     "output_type": "stream",
     "text": [
      "Note: to be able to use all crisp methods, you need to install some additional packages:  {'graph_tool', 'wurlitzer', 'infomap', 'bayanpy'}\n",
      "Note: to be able to use all crisp methods, you need to install some additional packages:  {'pyclustering', 'ASLPAw'}\n",
      "Note: to be able to use all crisp methods, you need to install some additional packages:  {'wurlitzer', 'infomap'}\n"
     ]
    }
   ],
   "source": [
    "from cdlib import algorithms\n"
   ]
  },
  {
   "cell_type": "code",
   "execution_count": 13,
   "metadata": {},
   "outputs": [
    {
     "name": "stdout",
     "output_type": "stream",
     "text": [
      "Number of partitions: 47135\n",
      "Modularity: 0.6535567993402418\n"
     ]
    }
   ],
   "source": [
    "communities_louvain = algorithms.louvain(G)\n",
    "\n",
    "# Accessing the number of communities/partitions\n",
    "num_partitions = len(communities_louvain.communities)\n",
    "print(f\"Number of partitions: {num_partitions}\")\n",
    "\n",
    "# Accessing modularity\n",
    "modularity = communities_louvain.newman_girvan_modularity().score\n",
    "print(f\"Modularity: {modularity}\")"
   ]
  },
  {
   "cell_type": "markdown",
   "metadata": {},
   "source": [
    "## Creating Undirected Weighted iGraph for Leiden\n",
    "\n",
    "Provided that running Leiden on the MusicMicro dataset was problematic, we decided to isolate the issue and directly use iGraph, as suggested by Leiden's authors.  \n",
    "\n",
    "We iterate over the edge list DataFrame rows to add edges into a tuple list, along with their weights in a separate list for input into a new iGraph graph."
   ]
  },
  {
   "cell_type": "code",
   "execution_count": 14,
   "metadata": {},
   "outputs": [
    {
     "name": "stdout",
     "output_type": "stream",
     "text": [
      "[0.9788354573755722, 0.7134917524156085, 0.6849385653326384, 0.8726768455516055, 0.9730999967361242]\n",
      "IGRAPH UNW- 245760 641284 -- \n",
      "+ attr: name (v), weight (e)\n"
     ]
    }
   ],
   "source": [
    "import igraph as ig\n",
    "\n",
    "# Assuming edge_list_df is your DataFrame\n",
    "edges_with_weights = [(row['source'], row['target'], row['weight']) for index, row in edge_list_df.iterrows()]\n",
    "\n",
    "# Creating the igraph Graph\n",
    "g = ig.Graph.TupleList(edges_with_weights, edge_attrs={'weight': [w for _, _, w in edges_with_weights]})\n",
    "\n",
    "# Now, check again if the weights have been correctly assigned\n",
    "print(g.es['weight'][:5])\n",
    "print(g.summary())"
   ]
  },
  {
   "cell_type": "markdown",
   "metadata": {},
   "source": [
    "## Running Leiden Using iGraph + leidenalg"
   ]
  },
  {
   "cell_type": "code",
   "execution_count": 15,
   "metadata": {},
   "outputs": [
    {
     "name": "stdout",
     "output_type": "stream",
     "text": [
      "Number of communities: 595\n",
      "Modularity score: 0.5911447964957371\n"
     ]
    }
   ],
   "source": [
    "import leidenalg\n",
    "\n",
    "# Run the Leiden algorithm\n",
    "partition = leidenalg.find_partition(g, partition_type=leidenalg.ModularityVertexPartition, weights='weight')\n",
    "\n",
    "# Extract the number of communities\n",
    "num_communities = len(partition)\n",
    "\n",
    "# Calculate the modularity score\n",
    "modularity = partition.modularity\n",
    "\n",
    "print(f\"Number of communities: {num_communities}\")\n",
    "print(f\"Modularity score: {modularity}\")"
   ]
  },
  {
   "cell_type": "markdown",
   "metadata": {},
   "source": [
    "## Saving Node List w/ Community Assignments\n",
    "\n",
    "In order for us to visualize the partitions, we need to iterate through each partition and assign an ID to every node in it. This way we can color code when visualizing to see which nodes were assigned together. "
   ]
  },
  {
   "cell_type": "markdown",
   "metadata": {},
   "source": [
    "### Load Node ID List\n",
    "\n",
    "This was copied from Similar+Weights folder."
   ]
  },
  {
   "cell_type": "code",
   "execution_count": 16,
   "metadata": {},
   "outputs": [
    {
     "data": {
      "text/html": [
       "<div>\n",
       "<style scoped>\n",
       "    .dataframe tbody tr th:only-of-type {\n",
       "        vertical-align: middle;\n",
       "    }\n",
       "\n",
       "    .dataframe tbody tr th {\n",
       "        vertical-align: top;\n",
       "    }\n",
       "\n",
       "    .dataframe thead th {\n",
       "        text-align: right;\n",
       "    }\n",
       "</style>\n",
       "<table border=\"1\" class=\"dataframe\">\n",
       "  <thead>\n",
       "    <tr style=\"text-align: right;\">\n",
       "      <th></th>\n",
       "      <th>nodeID</th>\n",
       "    </tr>\n",
       "  </thead>\n",
       "  <tbody>\n",
       "    <tr>\n",
       "      <th>0</th>\n",
       "      <td>u174194590</td>\n",
       "    </tr>\n",
       "    <tr>\n",
       "      <th>1</th>\n",
       "      <td>u26432623</td>\n",
       "    </tr>\n",
       "    <tr>\n",
       "      <th>2</th>\n",
       "      <td>t141574</td>\n",
       "    </tr>\n",
       "    <tr>\n",
       "      <th>3</th>\n",
       "      <td>t1479214</td>\n",
       "    </tr>\n",
       "    <tr>\n",
       "      <th>4</th>\n",
       "      <td>t141567</td>\n",
       "    </tr>\n",
       "    <tr>\n",
       "      <th>...</th>\n",
       "      <td>...</td>\n",
       "    </tr>\n",
       "    <tr>\n",
       "      <th>245755</th>\n",
       "      <td>ci15519</td>\n",
       "    </tr>\n",
       "    <tr>\n",
       "      <th>245756</th>\n",
       "      <td>ci4030</td>\n",
       "    </tr>\n",
       "    <tr>\n",
       "      <th>245757</th>\n",
       "      <td>u464842393</td>\n",
       "    </tr>\n",
       "    <tr>\n",
       "      <th>245758</th>\n",
       "      <td>ci11319</td>\n",
       "    </tr>\n",
       "    <tr>\n",
       "      <th>245759</th>\n",
       "      <td>ci11318</td>\n",
       "    </tr>\n",
       "  </tbody>\n",
       "</table>\n",
       "<p>245760 rows × 1 columns</p>\n",
       "</div>"
      ],
      "text/plain": [
       "            nodeID\n",
       "0       u174194590\n",
       "1        u26432623\n",
       "2          t141574\n",
       "3         t1479214\n",
       "4          t141567\n",
       "...            ...\n",
       "245755     ci15519\n",
       "245756      ci4030\n",
       "245757  u464842393\n",
       "245758     ci11319\n",
       "245759     ci11318\n",
       "\n",
       "[245760 rows x 1 columns]"
      ]
     },
     "metadata": {},
     "output_type": "display_data"
    }
   ],
   "source": [
    "# Load node IDs into a DataFrame\n",
    "node_df = pd.read_csv('Input/JUST_node_indexes.txt', header=None, names=['nodeID'])\n",
    "\n",
    "display(node_df)"
   ]
  },
  {
   "cell_type": "code",
   "execution_count": 17,
   "metadata": {},
   "outputs": [
    {
     "data": {
      "text/html": [
       "<div>\n",
       "<style scoped>\n",
       "    .dataframe tbody tr th:only-of-type {\n",
       "        vertical-align: middle;\n",
       "    }\n",
       "\n",
       "    .dataframe tbody tr th {\n",
       "        vertical-align: top;\n",
       "    }\n",
       "\n",
       "    .dataframe thead th {\n",
       "        text-align: right;\n",
       "    }\n",
       "</style>\n",
       "<table border=\"1\" class=\"dataframe\">\n",
       "  <thead>\n",
       "    <tr style=\"text-align: right;\">\n",
       "      <th></th>\n",
       "      <th>nodeID</th>\n",
       "      <th>type</th>\n",
       "    </tr>\n",
       "  </thead>\n",
       "  <tbody>\n",
       "    <tr>\n",
       "      <th>0</th>\n",
       "      <td>u174194590</td>\n",
       "      <td>user</td>\n",
       "    </tr>\n",
       "    <tr>\n",
       "      <th>1</th>\n",
       "      <td>u26432623</td>\n",
       "      <td>user</td>\n",
       "    </tr>\n",
       "    <tr>\n",
       "      <th>2</th>\n",
       "      <td>t141574</td>\n",
       "      <td>track</td>\n",
       "    </tr>\n",
       "    <tr>\n",
       "      <th>3</th>\n",
       "      <td>t1479214</td>\n",
       "      <td>track</td>\n",
       "    </tr>\n",
       "    <tr>\n",
       "      <th>4</th>\n",
       "      <td>t141567</td>\n",
       "      <td>track</td>\n",
       "    </tr>\n",
       "    <tr>\n",
       "      <th>...</th>\n",
       "      <td>...</td>\n",
       "      <td>...</td>\n",
       "    </tr>\n",
       "    <tr>\n",
       "      <th>245755</th>\n",
       "      <td>ci15519</td>\n",
       "      <td>city</td>\n",
       "    </tr>\n",
       "    <tr>\n",
       "      <th>245756</th>\n",
       "      <td>ci4030</td>\n",
       "      <td>city</td>\n",
       "    </tr>\n",
       "    <tr>\n",
       "      <th>245757</th>\n",
       "      <td>u464842393</td>\n",
       "      <td>user</td>\n",
       "    </tr>\n",
       "    <tr>\n",
       "      <th>245758</th>\n",
       "      <td>ci11319</td>\n",
       "      <td>city</td>\n",
       "    </tr>\n",
       "    <tr>\n",
       "      <th>245759</th>\n",
       "      <td>ci11318</td>\n",
       "      <td>city</td>\n",
       "    </tr>\n",
       "  </tbody>\n",
       "</table>\n",
       "<p>245760 rows × 2 columns</p>\n",
       "</div>"
      ],
      "text/plain": [
       "            nodeID   type\n",
       "0       u174194590   user\n",
       "1        u26432623   user\n",
       "2          t141574  track\n",
       "3         t1479214  track\n",
       "4          t141567  track\n",
       "...            ...    ...\n",
       "245755     ci15519   city\n",
       "245756      ci4030   city\n",
       "245757  u464842393   user\n",
       "245758     ci11319   city\n",
       "245759     ci11318   city\n",
       "\n",
       "[245760 rows x 2 columns]"
      ]
     },
     "metadata": {},
     "output_type": "display_data"
    }
   ],
   "source": [
    "def get_type(node_id):\n",
    "    if node_id.startswith('t'):\n",
    "        return 'track'\n",
    "    elif node_id.startswith('a'):\n",
    "        return 'artist'\n",
    "    elif node_id.startswith('u'):\n",
    "        return 'user'\n",
    "    elif node_id.startswith('ci'):\n",
    "        return 'city'\n",
    "    elif node_id.startswith('co'):\n",
    "        return 'country'\n",
    "    else:\n",
    "        return 'unknown'\n",
    "\n",
    "node_df['type'] = node_df['nodeID'].apply(get_type)\n",
    "\n",
    "display(node_df)"
   ]
  },
  {
   "cell_type": "code",
   "execution_count": 18,
   "metadata": {},
   "outputs": [],
   "source": [
    "import matplotlib.cm as cm\n",
    "import matplotlib"
   ]
  },
  {
   "cell_type": "markdown",
   "metadata": {},
   "source": [
    "### For Louvain"
   ]
  },
  {
   "cell_type": "code",
   "execution_count": 19,
   "metadata": {},
   "outputs": [],
   "source": [
    "# Correctly accessing the communities for iteration\n",
    "n_communities = len(communities_louvain.communities)\n",
    "colors = cm.get_cmap('viridis', n_communities)\n",
    "\n",
    "# Initialize the mapping dictionary\n",
    "node_community_color_map = {}\n",
    "\n",
    "for community_id, community_nodes in enumerate(communities_louvain.communities):\n",
    "    color = colors(community_id / n_communities)  # Get a color from the colormap\n",
    "    color_hex = matplotlib.colors.rgb2hex(color)  # Convert the color to hex format\n",
    "    \n",
    "    for node in community_nodes:\n",
    "        node_community_color_map[str(node)] = {\"communityID\": community_id, \"color\": color_hex}"
   ]
  },
  {
   "cell_type": "code",
   "execution_count": 20,
   "metadata": {},
   "outputs": [
    {
     "data": {
      "text/html": [
       "<div>\n",
       "<style scoped>\n",
       "    .dataframe tbody tr th:only-of-type {\n",
       "        vertical-align: middle;\n",
       "    }\n",
       "\n",
       "    .dataframe tbody tr th {\n",
       "        vertical-align: top;\n",
       "    }\n",
       "\n",
       "    .dataframe thead th {\n",
       "        text-align: right;\n",
       "    }\n",
       "</style>\n",
       "<table border=\"1\" class=\"dataframe\">\n",
       "  <thead>\n",
       "    <tr style=\"text-align: right;\">\n",
       "      <th></th>\n",
       "      <th>nodeID</th>\n",
       "      <th>type</th>\n",
       "      <th>communityID</th>\n",
       "      <th>color</th>\n",
       "    </tr>\n",
       "  </thead>\n",
       "  <tbody>\n",
       "    <tr>\n",
       "      <th>0</th>\n",
       "      <td>u174194590</td>\n",
       "      <td>user</td>\n",
       "      <td>107</td>\n",
       "      <td>#440154</td>\n",
       "    </tr>\n",
       "    <tr>\n",
       "      <th>1</th>\n",
       "      <td>u26432623</td>\n",
       "      <td>user</td>\n",
       "      <td>39</td>\n",
       "      <td>#440154</td>\n",
       "    </tr>\n",
       "    <tr>\n",
       "      <th>2</th>\n",
       "      <td>t141574</td>\n",
       "      <td>track</td>\n",
       "      <td>0</td>\n",
       "      <td>#440154</td>\n",
       "    </tr>\n",
       "    <tr>\n",
       "      <th>3</th>\n",
       "      <td>t1479214</td>\n",
       "      <td>track</td>\n",
       "      <td>0</td>\n",
       "      <td>#440154</td>\n",
       "    </tr>\n",
       "    <tr>\n",
       "      <th>4</th>\n",
       "      <td>t141567</td>\n",
       "      <td>track</td>\n",
       "      <td>0</td>\n",
       "      <td>#440154</td>\n",
       "    </tr>\n",
       "    <tr>\n",
       "      <th>...</th>\n",
       "      <td>...</td>\n",
       "      <td>...</td>\n",
       "      <td>...</td>\n",
       "      <td>...</td>\n",
       "    </tr>\n",
       "    <tr>\n",
       "      <th>245755</th>\n",
       "      <td>ci15519</td>\n",
       "      <td>city</td>\n",
       "      <td>39819</td>\n",
       "      <td>#98d83e</td>\n",
       "    </tr>\n",
       "    <tr>\n",
       "      <th>245756</th>\n",
       "      <td>ci4030</td>\n",
       "      <td>city</td>\n",
       "      <td>11992</td>\n",
       "      <td>#3a538b</td>\n",
       "    </tr>\n",
       "    <tr>\n",
       "      <th>245757</th>\n",
       "      <td>u464842393</td>\n",
       "      <td>user</td>\n",
       "      <td>368</td>\n",
       "      <td>#440256</td>\n",
       "    </tr>\n",
       "    <tr>\n",
       "      <th>245758</th>\n",
       "      <td>ci11319</td>\n",
       "      <td>city</td>\n",
       "      <td>19643</td>\n",
       "      <td>#287c8e</td>\n",
       "    </tr>\n",
       "    <tr>\n",
       "      <th>245759</th>\n",
       "      <td>ci11318</td>\n",
       "      <td>city</td>\n",
       "      <td>11210</td>\n",
       "      <td>#3d4e8a</td>\n",
       "    </tr>\n",
       "  </tbody>\n",
       "</table>\n",
       "<p>245760 rows × 4 columns</p>\n",
       "</div>"
      ],
      "text/plain": [
       "            nodeID   type  communityID    color\n",
       "0       u174194590   user          107  #440154\n",
       "1        u26432623   user           39  #440154\n",
       "2          t141574  track            0  #440154\n",
       "3         t1479214  track            0  #440154\n",
       "4          t141567  track            0  #440154\n",
       "...            ...    ...          ...      ...\n",
       "245755     ci15519   city        39819  #98d83e\n",
       "245756      ci4030   city        11992  #3a538b\n",
       "245757  u464842393   user          368  #440256\n",
       "245758     ci11319   city        19643  #287c8e\n",
       "245759     ci11318   city        11210  #3d4e8a\n",
       "\n",
       "[245760 rows x 4 columns]"
      ]
     },
     "metadata": {},
     "output_type": "display_data"
    }
   ],
   "source": [
    "node_df_louvain = node_df.copy()\n",
    "\n",
    "# Add community ID, color, and type to the DataFrame\n",
    "node_df_louvain['communityID'] = node_df['nodeID'].apply(lambda x: node_community_color_map[x]['communityID'] if x in node_community_color_map else -1)\n",
    "node_df_louvain['color'] = node_df['nodeID'].apply(lambda x: node_community_color_map[x]['color'] if x in node_community_color_map else '#000000')\n",
    "\n",
    "display(node_df_louvain)"
   ]
  },
  {
   "cell_type": "code",
   "execution_count": 21,
   "metadata": {},
   "outputs": [],
   "source": [
    "# Select relevant columns if necessary and export to CSV\n",
    "node_df_louvain[['nodeID', 'communityID', 'color', 'type']].to_csv('Output/node_metadata_JUST_Louvain.csv', index=False, sep=';')"
   ]
  },
  {
   "cell_type": "markdown",
   "metadata": {},
   "source": [
    "### For Leiden"
   ]
  },
  {
   "cell_type": "code",
   "execution_count": 22,
   "metadata": {},
   "outputs": [],
   "source": [
    "# Correctly accessing the communities for iteration with Leiden results\n",
    "n_communities = len(partition)\n",
    "colors = cm.get_cmap('viridis', n_communities)\n",
    "\n",
    "# Initialize the mapping dictionary for Leiden communities\n",
    "node_community_color_map = {}\n",
    "\n",
    "# Mapping nodes to communities and colors\n",
    "for community_id, community_nodes in enumerate(partition):\n",
    "    color = colors(community_id / n_communities)  # Get a color from the colormap\n",
    "    color_hex = matplotlib.colors.rgb2hex(color)  # Convert the color to hex format\n",
    "    \n",
    "    for node in community_nodes:\n",
    "        node_community_color_map[str(g.vs[node]['name'])] = {\"communityID\": community_id, \"color\": color_hex}"
   ]
  },
  {
   "cell_type": "code",
   "execution_count": 23,
   "metadata": {},
   "outputs": [
    {
     "data": {
      "text/html": [
       "<div>\n",
       "<style scoped>\n",
       "    .dataframe tbody tr th:only-of-type {\n",
       "        vertical-align: middle;\n",
       "    }\n",
       "\n",
       "    .dataframe tbody tr th {\n",
       "        vertical-align: top;\n",
       "    }\n",
       "\n",
       "    .dataframe thead th {\n",
       "        text-align: right;\n",
       "    }\n",
       "</style>\n",
       "<table border=\"1\" class=\"dataframe\">\n",
       "  <thead>\n",
       "    <tr style=\"text-align: right;\">\n",
       "      <th></th>\n",
       "      <th>nodeID</th>\n",
       "      <th>type</th>\n",
       "      <th>communityID</th>\n",
       "      <th>color</th>\n",
       "    </tr>\n",
       "  </thead>\n",
       "  <tbody>\n",
       "    <tr>\n",
       "      <th>0</th>\n",
       "      <td>u174194590</td>\n",
       "      <td>user</td>\n",
       "      <td>3</td>\n",
       "      <td>#440256</td>\n",
       "    </tr>\n",
       "    <tr>\n",
       "      <th>1</th>\n",
       "      <td>u26432623</td>\n",
       "      <td>user</td>\n",
       "      <td>10</td>\n",
       "      <td>#46075a</td>\n",
       "    </tr>\n",
       "    <tr>\n",
       "      <th>2</th>\n",
       "      <td>t141574</td>\n",
       "      <td>track</td>\n",
       "      <td>2</td>\n",
       "      <td>#440154</td>\n",
       "    </tr>\n",
       "    <tr>\n",
       "      <th>3</th>\n",
       "      <td>t1479214</td>\n",
       "      <td>track</td>\n",
       "      <td>1</td>\n",
       "      <td>#440154</td>\n",
       "    </tr>\n",
       "    <tr>\n",
       "      <th>4</th>\n",
       "      <td>t141567</td>\n",
       "      <td>track</td>\n",
       "      <td>1</td>\n",
       "      <td>#440154</td>\n",
       "    </tr>\n",
       "    <tr>\n",
       "      <th>...</th>\n",
       "      <td>...</td>\n",
       "      <td>...</td>\n",
       "      <td>...</td>\n",
       "      <td>...</td>\n",
       "    </tr>\n",
       "    <tr>\n",
       "      <th>245755</th>\n",
       "      <td>ci15519</td>\n",
       "      <td>city</td>\n",
       "      <td>1</td>\n",
       "      <td>#440154</td>\n",
       "    </tr>\n",
       "    <tr>\n",
       "      <th>245756</th>\n",
       "      <td>ci4030</td>\n",
       "      <td>city</td>\n",
       "      <td>5</td>\n",
       "      <td>#450457</td>\n",
       "    </tr>\n",
       "    <tr>\n",
       "      <th>245757</th>\n",
       "      <td>u464842393</td>\n",
       "      <td>user</td>\n",
       "      <td>22</td>\n",
       "      <td>#470e61</td>\n",
       "    </tr>\n",
       "    <tr>\n",
       "      <th>245758</th>\n",
       "      <td>ci11319</td>\n",
       "      <td>city</td>\n",
       "      <td>12</td>\n",
       "      <td>#46085c</td>\n",
       "    </tr>\n",
       "    <tr>\n",
       "      <th>245759</th>\n",
       "      <td>ci11318</td>\n",
       "      <td>city</td>\n",
       "      <td>6</td>\n",
       "      <td>#450457</td>\n",
       "    </tr>\n",
       "  </tbody>\n",
       "</table>\n",
       "<p>245760 rows × 4 columns</p>\n",
       "</div>"
      ],
      "text/plain": [
       "            nodeID   type  communityID    color\n",
       "0       u174194590   user            3  #440256\n",
       "1        u26432623   user           10  #46075a\n",
       "2          t141574  track            2  #440154\n",
       "3         t1479214  track            1  #440154\n",
       "4          t141567  track            1  #440154\n",
       "...            ...    ...          ...      ...\n",
       "245755     ci15519   city            1  #440154\n",
       "245756      ci4030   city            5  #450457\n",
       "245757  u464842393   user           22  #470e61\n",
       "245758     ci11319   city           12  #46085c\n",
       "245759     ci11318   city            6  #450457\n",
       "\n",
       "[245760 rows x 4 columns]"
      ]
     },
     "metadata": {},
     "output_type": "display_data"
    }
   ],
   "source": [
    "node_df_leiden = node_df.copy()\n",
    "\n",
    "# Add community ID and color to the DataFrame based on Leiden results\n",
    "node_df_leiden['communityID'] = node_df['nodeID'].apply(lambda x: node_community_color_map[x]['communityID'] if x in node_community_color_map else -1)\n",
    "node_df_leiden['color'] = node_df['nodeID'].apply(lambda x: node_community_color_map[x]['color'] if x in node_community_color_map else '#000000')\n",
    "\n",
    "# Display the updated DataFrame\n",
    "display(node_df_leiden)"
   ]
  },
  {
   "cell_type": "code",
   "execution_count": 24,
   "metadata": {},
   "outputs": [],
   "source": [
    "# Select relevant columns if necessary and export to CSV\n",
    "node_df_leiden[['nodeID', 'communityID', 'color', 'type']].to_csv('Output/node_metadata_JUST_Leiden.csv', index=False, sep=';')"
   ]
  }
 ],
 "metadata": {
  "kernelspec": {
   "display_name": "Python 3",
   "language": "python",
   "name": "python3"
  },
  "language_info": {
   "codemirror_mode": {
    "name": "ipython",
    "version": 3
   },
   "file_extension": ".py",
   "mimetype": "text/x-python",
   "name": "python",
   "nbconvert_exporter": "python",
   "pygments_lexer": "ipython3",
   "version": "3.9.7"
  }
 },
 "nbformat": 4,
 "nbformat_minor": 2
}
